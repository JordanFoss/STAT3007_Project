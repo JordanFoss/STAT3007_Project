{
 "cells": [
  {
   "cell_type": "markdown",
   "metadata": {
    "colab_type": "text",
    "id": "view-in-github"
   },
   "source": [
    "<a href=\"https://colab.research.google.com/github/JordanFoss/STAT3007_Project/blob/main/model_visualisation.ipynb\" target=\"_parent\"><img src=\"https://colab.research.google.com/assets/colab-badge.svg\" alt=\"Open In Colab\"/></a>"
   ]
  },
  {
   "cell_type": "code",
   "execution_count": 45,
   "metadata": {
    "id": "k-tnQt_JOf-Q"
   },
   "outputs": [],
   "source": [
    "import keras\n",
    "from tensorflow.keras import layers\n",
    "from tensorflow.keras.datasets import mnist\n",
    "from tensorflow.keras.models import Model\n",
    "import PIL"
   ]
  },
  {
   "cell_type": "code",
   "execution_count": 44,
   "metadata": {
    "colab": {
     "base_uri": "https://localhost:8080/"
    },
    "id": "Hn88-Q71O-14",
    "outputId": "a19f5a5e-a255-46d3-b171-00fa7ccbeffc"
   },
   "outputs": [
    {
     "name": "stdout",
     "output_type": "stream",
     "text": [
      "\u001b[31mERROR: Could not find a version that satisfies the requirement PIL (from versions: none)\u001b[0m\n",
      "\u001b[31mERROR: No matching distribution found for PIL\u001b[0m\n"
     ]
    }
   ],
   "source": [
    "pip install visualkeras"
   ]
  },
  {
   "cell_type": "code",
   "execution_count": 5,
   "metadata": {
    "id": "TVZy23f5PACZ"
   },
   "outputs": [],
   "source": [
    "import visualkeras"
   ]
  },
  {
   "cell_type": "code",
   "execution_count": 38,
   "metadata": {
    "colab": {
     "base_uri": "https://localhost:8080/"
    },
    "id": "sdM2CXjmOgtf",
    "outputId": "13fb4eab-ddd3-4cac-b0a3-156fb2436ee3"
   },
   "outputs": [
    {
     "name": "stdout",
     "output_type": "stream",
     "text": [
      "Model: \"model_25\"\n",
      "_________________________________________________________________\n",
      "Layer (type)                 Output Shape              Param #   \n",
      "=================================================================\n",
      "input_31 (InputLayer)        [(None, 128, 64, 1)]      0         \n",
      "_________________________________________________________________\n",
      "conv2d_90 (Conv2D)           (None, 128, 64, 8)        104       \n",
      "_________________________________________________________________\n",
      "max_pooling2d_60 (MaxPooling (None, 64, 32, 8)         0         \n",
      "_________________________________________________________________\n",
      "conv2d_91 (Conv2D)           (None, 64, 32, 8)         776       \n",
      "_________________________________________________________________\n",
      "max_pooling2d_61 (MaxPooling (None, 32, 16, 8)         0         \n",
      "_________________________________________________________________\n",
      "conv2d_92 (Conv2D)           (None, 32, 16, 8)         776       \n",
      "_________________________________________________________________\n",
      "conv2d_transpose_81 (Conv2DT (None, 32, 16, 8)         776       \n",
      "_________________________________________________________________\n",
      "up_sampling2d_33 (UpSampling (None, 64, 32, 8)         0         \n",
      "_________________________________________________________________\n",
      "conv2d_transpose_82 (Conv2DT (None, 64, 32, 8)         776       \n",
      "_________________________________________________________________\n",
      "up_sampling2d_34 (UpSampling (None, 128, 64, 8)        0         \n",
      "_________________________________________________________________\n",
      "conv2d_transpose_83 (Conv2DT (None, 128, 64, 1)        97        \n",
      "=================================================================\n",
      "Total params: 3,305\n",
      "Trainable params: 3,305\n",
      "Non-trainable params: 0\n",
      "_________________________________________________________________\n"
     ]
    }
   ],
   "source": [
    "input = layers.Input(shape=(128, 64, 1))\n",
    "\n",
    "# Encoder\n",
    "x = layers.Conv2D(8, (3, 4), activation=\"relu\", padding=\"same\")(input)\n",
    "x = layers.MaxPooling2D((2, 2), padding=\"same\")(x)\n",
    "x = layers.Conv2D(8, (3, 4), activation=\"relu\", padding=\"same\")(x)\n",
    "x = layers.MaxPooling2D((2, 2), padding=\"same\")(x)\n",
    "x = layers.Conv2D(8, (3, 4), activation=\"relu\", padding=\"same\")(x)\n",
    "\n",
    "x = layers.Conv2DTranspose(8, (3, 4),  activation=\"relu\", padding=\"same\")(x)\n",
    "x = layers.UpSampling2D(size=(2, 2))(x)\n",
    "x = layers.Conv2DTranspose(8, (3, 4),  activation=\"relu\", padding=\"same\")(x)\n",
    "x = layers.UpSampling2D(size=(2, 2))(x)\n",
    "x = layers.Conv2DTranspose(1, (3, 4), padding=\"same\")(x)\n",
    "\n",
    "# Autoencoder\n",
    "autoencoder = Model(input, x)\n",
    "autoencoder.compile(optimizer=\"adam\", loss=\"binary_crossentropy\")\n",
    "autoencoder.summary()"
   ]
  },
  {
   "cell_type": "code",
   "execution_count": 49,
   "metadata": {
    "colab": {
     "base_uri": "https://localhost:8080/",
     "height": 480
    },
    "id": "qNFeGv46P4rK",
    "outputId": "ce90b3b8-7280-479f-8f41-7b4fda90a0ea"
   },
   "outputs": [
    {
     "data": {
      "image/png": "[encoded data removed]",
      "text/plain": [
       "<PIL.Image.Image image mode=RGBA size=520x463 at 0x7F0A8FE7B410>"
      ]
     },
     "execution_count": 49,
     "metadata": {
      "tags": []
     },
     "output_type": "execute_result"
    }
   ],
   "source": [
    "from PIL import ImageFont\n",
    "\n",
    "\n",
    "visualkeras.layered_view(autoencoder, legend = True)"
   ]
  },
  {
   "cell_type": "code",
   "execution_count": null,
   "metadata": {
    "id": "AIa6QcdSTC2p"
   },
   "outputs": [],
   "source": []
  }
 ],
 "metadata": {
  "colab": {
   "authorship_tag": "ABX9TyO5n8YuG8bACjEOpKAeA+ux",
   "include_colab_link": true,
   "name": "Untitled6.ipynb",
   "provenance": []
  },
  "kernelspec": {
   "display_name": "Python 3",
   "language": "python",
   "name": "python3"
  },
  "language_info": {
   "codemirror_mode": {
    "name": "ipython",
    "version": 3
   },
   "file_extension": ".py",
   "mimetype": "text/x-python",
   "name": "python",
   "nbconvert_exporter": "python",
   "pygments_lexer": "ipython3",
   "version": "3.6.2"
  }
 },
 "nbformat": 4,
 "nbformat_minor": 1
}
