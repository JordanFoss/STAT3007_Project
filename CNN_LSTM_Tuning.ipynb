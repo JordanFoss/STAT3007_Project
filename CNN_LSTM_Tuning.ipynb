{
  "nbformat": 4,
  "nbformat_minor": 0,
  "metadata": {
    "colab": {
      "name": "Conv_LSTM.ipynb",
      "provenance": [],
      "authorship_tag": "ABX9TyMOIEt1It59Fjit4mE9FRUb",
      "include_colab_link": true
    },
    "kernelspec": {
      "name": "python3",
      "display_name": "Python 3"
    },
    "language_info": {
      "name": "python"
    },
    "accelerator": "GPU"
  },
  "cells": [
    {
      "cell_type": "markdown",
      "metadata": {
        "id": "view-in-github",
        "colab_type": "text"
      },
      "source": [
        "<a href=\"https://colab.research.google.com/github/JordanFoss/STAT3007_Project/blob/main/CNN_LSTM_Tuning.ipynb\" target=\"_parent\"><img src=\"https://colab.research.google.com/assets/colab-badge.svg\" alt=\"Open In Colab\"/></a>"
      ]
    },
    {
      "cell_type": "markdown",
      "metadata": {
        "id": "SVzcboCjHQG0"
      },
      "source": [
        "# Loading all the needed things\n"
      ]
    },
    {
      "cell_type": "code",
      "metadata": {
        "colab": {
          "base_uri": "https://localhost:8080/"
        },
        "id": "QZWQb0ebc-fP",
        "outputId": "6a160e7d-8b77-430f-e3f1-209b2bec94dd"
      },
      "source": [
        "!git clone https://github.com/JordanFoss/STAT3007_Project.git\n",
        "%cd STAT3007_Project/"
      ],
      "execution_count": 3,
      "outputs": [
        {
          "output_type": "stream",
          "text": [
            "Cloning into 'STAT3007_Project'...\n",
            "remote: Enumerating objects: 4337, done.\u001b[K\n",
            "remote: Counting objects: 100% (615/615), done.\u001b[K\n",
            "remote: Compressing objects: 100% (384/384), done.\u001b[K\n",
            "remote: Total 4337 (delta 241), reused 602 (delta 228), pack-reused 3722\u001b[K\n",
            "Receiving objects: 100% (4337/4337), 977.85 MiB | 25.10 MiB/s, done.\n",
            "Resolving deltas: 100% (826/826), done.\n",
            "Checking out files: 100% (2942/2942), done.\n",
            "/content/STAT3007_Project\n"
          ],
          "name": "stdout"
        }
      ]
    },
    {
      "cell_type": "code",
      "metadata": {
        "colab": {
          "base_uri": "https://localhost:8080/"
        },
        "id": "TgxL4OYFIIuZ",
        "outputId": "0bff5e8a-fc75-4e33-ca5d-96d3cd65a258"
      },
      "source": [
        "!pip install colorednoise as cn"
      ],
      "execution_count": 4,
      "outputs": [
        {
          "output_type": "stream",
          "text": [
            "Collecting colorednoise\n",
            "  Downloading https://files.pythonhosted.org/packages/a3/3e/85645bcaa5ba6003c6e3c650fe23c6352f7aa4a36eb1d700f3609e52963e/colorednoise-1.1.1.tar.gz\n",
            "Collecting as\n",
            "  Downloading https://files.pythonhosted.org/packages/b4/08/226c133ec497d25a63edb38527c02db093c7d89e6d4cdc91078834486a5d/as-0.1-py3-none-any.whl\n",
            "Collecting cn\n",
            "  Downloading https://files.pythonhosted.org/packages/d2/f0/37acf3f62cd9311fe8f9b373cacd77ce2ab131bc138615e7ccec8d9d793a/cn-0.0.0.0-py3-none-any.whl\n",
            "Requirement already satisfied: numpy in /usr/local/lib/python3.7/dist-packages (from colorednoise) (1.19.5)\n",
            "Building wheels for collected packages: colorednoise\n",
            "  Building wheel for colorednoise (setup.py) ... \u001b[?25l\u001b[?25hdone\n",
            "  Created wheel for colorednoise: filename=colorednoise-1.1.1-cp37-none-any.whl size=3983 sha256=cdb114c783c22d6f3ebdb73acb07fdbc8b92921882a92808fc2a68c0fa4313f5\n",
            "  Stored in directory: /root/.cache/pip/wheels/84/be/f3/3e7e1c80ebab3f6f0dbd3e34e787b902d2280d66706485fef4\n",
            "Successfully built colorednoise\n",
            "Installing collected packages: colorednoise, as, cn\n",
            "Successfully installed as-0.1 cn-0.0.0.0 colorednoise-1.1.1\n"
          ],
          "name": "stdout"
        }
      ]
    },
    {
      "cell_type": "code",
      "metadata": {
        "id": "dEw6Ckz2dADM"
      },
      "source": [
        "import torch\n",
        "import torch.nn as nn\n",
        "import matplotlib.pyplot as plt\n",
        "from torchvision.transforms import ToTensor\n",
        "import scipy\n",
        "import numpy as np\n",
        "import librosa\n",
        "import torch.optim as optim\n",
        "from torch.utils.data import Dataset, DataLoader, random_split\n",
        "from torch.autograd import Variable\n",
        "import pandas as pd\n",
        "import glob\n",
        "import os\n",
        "from librosa import display\n",
        "from torchsummary import summary\n",
        "import sklearn\n",
        "\n",
        "from IPython.display import Audio\n",
        "\n",
        "# load our own python files\n",
        "from pre_process import *\n",
        "from data_loading import *\n",
        "from Models import *\n",
        "from Model_Functions import *"
      ],
      "execution_count": 5,
      "outputs": []
    },
    {
      "cell_type": "code",
      "metadata": {
        "colab": {
          "base_uri": "https://localhost:8080/"
        },
        "id": "npPL3e5UJgzz",
        "outputId": "03134739-4cec-453a-a69c-a471ba92a03b"
      },
      "source": [
        "from google.colab import drive\n",
        "drive.mount('/content/drive')"
      ],
      "execution_count": 6,
      "outputs": [
        {
          "output_type": "stream",
          "text": [
            "Mounted at /content/drive\n"
          ],
          "name": "stdout"
        }
      ]
    },
    {
      "cell_type": "markdown",
      "metadata": {
        "id": "iZ0oSg-XI2_X"
      },
      "source": [
        "## Load Clean Data (from github repo)"
      ]
    },
    {
      "cell_type": "code",
      "metadata": {
        "id": "y34nuFDWu6RG"
      },
      "source": [
        "# loads all clean samples\n",
        "X,y = load_samples(os.getcwd())\n",
        "X = torch.tensor(X)\n",
        "X = X.reshape(X.shape[0],1,X.shape[1],X.shape[2])\n",
        "y = torch.tensor(y)\n",
        "\n",
        "# train/test split and make into datasets\n",
        "data_sets = load_sets(X,y,train_ratio=[0.8], seed = [10])\n",
        "data_train, data_test = data_sets[0]"
      ],
      "execution_count": 7,
      "outputs": []
    },
    {
      "cell_type": "markdown",
      "metadata": {
        "id": "DapMCuqCJYKe"
      },
      "source": [
        "## Load Noisy data (from google drive)"
      ]
    },
    {
      "cell_type": "code",
      "metadata": {
        "id": "wQga1LWWJaIz"
      },
      "source": [
        "#Import all the splited noisy data\n",
        "noisy_data_train = np.load('/content/drive/MyDrive/STAT3007_project/train_test_split_snr40/noisy_train_snr40.npy')\n",
        "noisy_data_test = np.load('/content/drive/MyDrive/STAT3007_project/train_test_split_snr40/noisy_test_snr40.npy')\n",
        "noisy_targets_train = np.load('/content/drive/MyDrive/STAT3007_project/train_test_split_snr40/target_train_snr40.npy')\n",
        "noisy_targets_test = np.load('/content/drive/MyDrive/STAT3007_project/train_test_split_snr40/target_test_snr40.npy')\n",
        "\n",
        "# reformat\n",
        "noisy_data_train = noisy_data_train.reshape(noisy_data_train.shape[0],1,noisy_data_train.shape[1],noisy_data_train.shape[2])\n",
        "noisy_data_test = noisy_data_test.reshape(noisy_data_test.shape[0],1,noisy_data_test.shape[1],noisy_data_test.shape[2])\n",
        "noisy_data_train = torch.tensor(noisy_data_train)\n",
        "noisy_data_test = torch.tensor(noisy_data_test)\n",
        "\n",
        "noisy_targets_train = torch.tensor(noisy_targets_train)\n",
        "noisy_targets_test = torch.tensor(noisy_targets_test)\n",
        "\n",
        "# make into datasets\n",
        "noisy_train = DatasetWrapper(noisy_data_train,noisy_targets_train)\n",
        "noisy_test = DatasetWrapper(noisy_data_test,noisy_targets_test)"
      ],
      "execution_count": 8,
      "outputs": []
    },
    {
      "cell_type": "markdown",
      "metadata": {
        "id": "LwG2Zv8dwT9y"
      },
      "source": [
        "# Train function"
      ]
    },
    {
      "cell_type": "code",
      "metadata": {
        "id": "DLJBT7wHwW-S"
      },
      "source": [
        "def train_model(data_train, \n",
        "                data_test, \n",
        "                net, loss, \n",
        "                nepoch , \n",
        "                lr = 0.01, \n",
        "                batch_size = -1, \n",
        "                momentum = 0,\n",
        "                use_cuda = False, \n",
        "                print_output = True, \n",
        "                optimiser = 'SGD'):\n",
        "\n",
        "  # setting up arrays for recording\n",
        "  test_acc = []\n",
        "  avg_acc = []\n",
        "  test_loss = []\n",
        "  avg_loss = []\n",
        "\n",
        "  # appropriate data type for CPU or GPU\n",
        "  device = None\n",
        "  if use_cuda and torch.cuda.is_available():\n",
        "    dtype = torch.cuda.FloatTensor\n",
        "    device = torch.device(\"cuda\")\n",
        "    net = net.to(device)\n",
        "  else:\n",
        "    dtype = torch.FloatTensor\n",
        "\n",
        "  # choice of optimiser\n",
        "  if optimiser == 'SGD':\n",
        "    optimizer = optim.SGD(net.parameters(), lr = lr, momentum = momentum)\n",
        "  else:\n",
        "    optimizer = optim.Adam(net.parameters(), lr = lr, momentum = momentum)\n",
        "\n",
        "  \n",
        "  data_train = data_train.change_type(dtype)\n",
        "  data_test = data_test.change_type(dtype)\n",
        "\n",
        "\n",
        "  X_test,y_test = data_test.get_data()\n",
        "\n",
        "  # for entropy loss\n",
        "  y_test = y_test.type(torch.LongTensor)\n",
        "  if device != None:\n",
        "    y_test = y_test.type(torch.cuda.LongTensor)\n",
        "\n",
        "  data_loader = DataLoader(data_train, batch_size = batch_size, shuffle = True)\n",
        "\n",
        "  for epoch in range(nepoch):\n",
        "    batch_acc = []\n",
        "    batch_loss = []\n",
        "    for X_batch, y_batch in data_loader:\n",
        "      \n",
        "      # change data type\n",
        "      y_batch = y_batch.type(torch.LongTensor)\n",
        "      if use_cuda and device != None:\n",
        "        X_batch = X_batch.to(device)\n",
        "        y_batch = y_batch.to(device)\n",
        "        y_batch = y_batch.type(torch.cuda.LongTensor)\n",
        "\n",
        "      optimizer.zero_grad()\n",
        "\n",
        "      pred = net(X_batch, use_cuda = use_cuda)\n",
        "      Rn = loss(pred, y_batch)\n",
        "      accur = accuracy(pred,y_batch)\n",
        "\n",
        "      batch_acc.append(accur)\n",
        "      batch_loss.append(Rn.to(torch.device('cpu')).detach().numpy())\n",
        "\n",
        "      Rn.backward()\n",
        "      optimizer.step()\n",
        "\n",
        "    # average batch status\n",
        "    avg_batch_loss = np.mean(batch_loss)\n",
        "    avg_batch_acc = np.mean(batch_acc)\n",
        "\n",
        "    avg_acc.append(avg_batch_acc)\n",
        "    avg_loss.append(avg_batch_loss)\n",
        "\n",
        "    # test results in current epoch\n",
        "    pred = net(X_test, use_cuda = use_cuda)\n",
        "    Rn = loss(pred, y_test)\n",
        "    accur = accuracy(pred,y_test)\n",
        "    test_acc.append(accur)\n",
        "    test_loss.append(Rn.to(torch.device('cpu')).detach().numpy())\n",
        "\n",
        "\n",
        "    if print_output:\n",
        "      print('epoch:', epoch)\n",
        "      print('loss:',Rn.item())\n",
        "      print('------------')\n",
        "    \n",
        "\n",
        "  print('final loss:', Rn.item())\n",
        "\n",
        "  return net, avg_loss, avg_acc, test_loss, test_acc"
      ],
      "execution_count": 9,
      "outputs": []
    },
    {
      "cell_type": "markdown",
      "metadata": {
        "id": "ILuHvn8vFlQ6"
      },
      "source": [
        "# Hyperparameter tuning\n",
        "__finalised__:\n",
        "* random seed = 69\n",
        "* Optimiser: SGD\n",
        "* lr: 0.01\n",
        "* epoch number: 40 \n",
        "* momentum: 0.2"
      ]
    },
    {
      "cell_type": "code",
      "metadata": {
        "id": "GiLFUPCkYrVZ",
        "colab": {
          "base_uri": "https://localhost:8080/",
          "height": 1000
        },
        "outputId": "516e9e6c-4ab3-4332-8469-40ac7a66d23d"
      },
      "source": [
        "# hyperparameter tuning for optimiser, lr and nepoch\n",
        "epoch = [i for i in range(10, 51,10)]\n",
        "fig = plt.figure()\n",
        "loss = nn.CrossEntropyLoss()\n",
        "optimiser = 'Adam'\n",
        "plt.title(' hyperparamter tuning for optimiser: ' + optimiser)\n",
        "plt.ylabel('Accuracy')\n",
        "plt.xlabel('Learning Rate')\n",
        "\n",
        "for nepoch in epoch:\n",
        "\n",
        "  lrs = [i * 0.001 for i in range(1, 11)]\n",
        "  acc = []\n",
        "  for lr in lrs:\n",
        "    torch.manual_seed(69)\n",
        "    CNN = ConvNet()\n",
        "    conv_LSTM = LRCN(CNN)\n",
        "    trained_net,avg_loss, avg_acc, test_loss, test_acc = train_model(data_train, data_test, conv_LSTM, loss, nepoch=nepoch , batch_size = 10,lr = lr, use_cuda = True, print_output = False, optimiser = 'SGD')\n",
        "    X_test, y_test = data_test.get_data()\n",
        "    trained_net = trained_net.to(torch.device('cpu'))\n",
        "    pred = trained_net(X_test)\n",
        "    accur = accuracy(pred,y_test)\n",
        "    acc.append(accur)\n",
        "  \n",
        "  plt.plot(lrs,acc, label = 'epoch = ' + str(nepoch))\n",
        "\n",
        "plt.legend()"
      ],
      "execution_count": 12,
      "outputs": [
        {
          "output_type": "stream",
          "text": [
            "final loss: 1.5960513353347778\n",
            "final loss: 1.5817543268203735\n",
            "final loss: 1.5622577667236328\n",
            "final loss: 1.5353151559829712\n",
            "final loss: 1.4976733922958374\n",
            "final loss: 1.4537428617477417\n",
            "final loss: 1.4130727052688599\n",
            "final loss: 1.3744512796401978\n",
            "final loss: 1.3470083475112915\n",
            "final loss: 1.316717267036438\n",
            "final loss: 1.580527424812317\n",
            "final loss: 1.5327855348587036\n",
            "final loss: 1.444177269935608\n",
            "final loss: 1.3348608016967773\n",
            "final loss: 1.239195704460144\n",
            "final loss: 1.1649430990219116\n",
            "final loss: 1.113086462020874\n",
            "final loss: 1.0764449834823608\n",
            "final loss: 1.0419412851333618\n",
            "final loss: 1.035400390625\n",
            "final loss: 1.565245509147644\n",
            "final loss: 1.4566298723220825\n",
            "final loss: 1.304161548614502\n",
            "final loss: 1.2026851177215576\n",
            "final loss: 1.1436940431594849\n",
            "final loss: 1.097208857536316\n",
            "final loss: 1.0586069822311401\n",
            "final loss: 1.047970175743103\n",
            "final loss: 0.9903509616851807\n",
            "final loss: 0.9696678519248962\n",
            "final loss: 1.535894513130188\n",
            "final loss: 1.3339234590530396\n",
            "final loss: 1.1579593420028687\n",
            "final loss: 1.0495984554290771\n",
            "final loss: 1.0017120838165283\n",
            "final loss: 0.9217962622642517\n",
            "final loss: 0.8905755877494812\n",
            "final loss: 0.8835940957069397\n",
            "final loss: 0.890106201171875\n",
            "final loss: 0.8833031058311462\n",
            "final loss: 1.4987856149673462\n",
            "final loss: 1.2336366176605225\n",
            "final loss: 1.1002432107925415\n",
            "final loss: 1.04624605178833\n",
            "final loss: 0.9861770272254944\n",
            "final loss: 0.9064365029335022\n",
            "final loss: 0.8878104090690613\n",
            "final loss: 0.9329959750175476\n",
            "final loss: 0.8581264615058899\n",
            "final loss: 0.9686557650566101\n"
          ],
          "name": "stdout"
        },
        {
          "output_type": "execute_result",
          "data": {
            "text/plain": [
              "<matplotlib.legend.Legend at 0x7f207585f890>"
            ]
          },
          "metadata": {
            "tags": []
          },
          "execution_count": 12
        },
        {
          "output_type": "display_data",
          "data": {
            "image/png": "[encoded data removed]",
            "text/plain": [
              "<Figure size 432x288 with 1 Axes>"
            ]
          },
          "metadata": {
            "tags": [],
            "needs_background": "light"
          }
        }
      ]
    },
    {
      "cell_type": "code",
      "metadata": {
        "id": "8HSro5eZ0cFX",
        "outputId": "9cb359e5-af9d-49c9-9518-ff1eae8f61e9",
        "colab": {
          "base_uri": "https://localhost:8080/",
          "height": 1000
        }
      },
      "source": [
        "# hyperparameter tuning for optimiser, lr and nepoch\n",
        "epoch = [i for i in range(10, 51,10)]\n",
        "fig = plt.figure()\n",
        "loss = nn.CrossEntropyLoss()\n",
        "optimiser = 'SGD'\n",
        "plt.title(' hyperparamter tuning for optimiser: ' + optimiser)\n",
        "plt.ylabel('Accuracy')\n",
        "plt.xlabel('Learning Rate')\n",
        "\n",
        "for nepoch in epoch:\n",
        "\n",
        "  lrs = [i * 0.001 for i in range(1, 11)]\n",
        "  acc = []\n",
        "  for lr in lrs:\n",
        "    torch.manual_seed(69)\n",
        "    CNN = ConvNet()\n",
        "    conv_LSTM = LRCN(CNN)\n",
        "    trained_net,avg_loss, avg_acc, test_loss, test_acc = train_model(data_train, data_test, conv_LSTM, loss, nepoch=nepoch , batch_size = 10,lr = lr, use_cuda = True, print_output = False, optimiser = 'SGD')\n",
        "    X_test, y_test = data_test.get_data()\n",
        "    trained_net = trained_net.to(torch.device('cpu'))\n",
        "    pred = trained_net(X_test)\n",
        "    accur = accuracy(pred,y_test)\n",
        "    acc.append(accur)\n",
        "  \n",
        "  plt.plot(lrs,acc, label = 'epoch = ' + str(nepoch))\n",
        "\n",
        "plt.legend()"
      ],
      "execution_count": 14,
      "outputs": [
        {
          "output_type": "stream",
          "text": [
            "final loss: 1.5960513353347778\n",
            "final loss: 1.5817543268203735\n",
            "final loss: 1.5622624158859253\n",
            "final loss: 1.5353151559829712\n",
            "final loss: 1.497676968574524\n",
            "final loss: 1.4537080526351929\n",
            "final loss: 1.413101077079773\n",
            "final loss: 1.3744274377822876\n",
            "final loss: 1.3448128700256348\n",
            "final loss: 1.3178635835647583\n",
            "final loss: 1.5805259943008423\n",
            "final loss: 1.5327798128128052\n",
            "final loss: 1.444167971611023\n",
            "final loss: 1.334921956062317\n",
            "final loss: 1.2396196126937866\n",
            "final loss: 1.168324589729309\n",
            "final loss: 1.1122146844863892\n",
            "final loss: 1.0926507711410522\n",
            "final loss: 1.0398176908493042\n",
            "final loss: 1.0221511125564575\n",
            "final loss: 1.5652451515197754\n",
            "final loss: 1.456631064414978\n",
            "final loss: 1.30422043800354\n",
            "final loss: 1.2029781341552734\n",
            "final loss: 1.1414180994033813\n",
            "final loss: 1.079119324684143\n",
            "final loss: 1.0301718711853027\n",
            "final loss: 1.0255824327468872\n",
            "final loss: 1.007027268409729\n",
            "final loss: 1.011792778968811\n",
            "final loss: 1.5358967781066895\n",
            "final loss: 1.3339405059814453\n",
            "final loss: 1.1583997011184692\n",
            "final loss: 1.0486847162246704\n",
            "final loss: 0.9948856234550476\n",
            "final loss: 0.9487660527229309\n",
            "final loss: 0.8887045979499817\n",
            "final loss: 0.8459481596946716\n",
            "final loss: 0.8231072425842285\n",
            "final loss: 0.8732506632804871\n",
            "final loss: 1.4987868070602417\n",
            "final loss: 1.2336317300796509\n",
            "final loss: 1.1001839637756348\n",
            "final loss: 1.0344964265823364\n",
            "final loss: 0.9851824641227722\n",
            "final loss: 0.9116425514221191\n",
            "final loss: 0.9450144171714783\n",
            "final loss: 0.9046120047569275\n",
            "final loss: 0.9072962403297424\n",
            "final loss: 0.7872979044914246\n"
          ],
          "name": "stdout"
        },
        {
          "output_type": "execute_result",
          "data": {
            "text/plain": [
              "<matplotlib.legend.Legend at 0x7f2075740750>"
            ]
          },
          "metadata": {
            "tags": []
          },
          "execution_count": 14
        },
        {
          "output_type": "display_data",
          "data": {
            "image/png": "[encoded data removed]",
            "text/plain": [
              "<Figure size 432x288 with 1 Axes>"
            ]
          },
          "metadata": {
            "tags": [],
            "needs_background": "light"
          }
        }
      ]
    },
    {
      "cell_type": "code",
      "metadata": {
        "id": "oTTbS1_5Lroh",
        "colab": {
          "base_uri": "https://localhost:8080/",
          "height": 480
        },
        "outputId": "e67ff0a3-14b2-46b3-8c92-a335feba2633"
      },
      "source": [
        "# momentum training\n",
        "momentums = [i*0.1 for i in range(1,10)]\n",
        "acc = []\n",
        "fig = plt.figure()\n",
        "loss = nn.CrossEntropyLoss()\n",
        "optimiser = 'SGD'\n",
        "plt.title(' hyperparameter tuning for optimiser: ' + optimiser)\n",
        "plt.ylabel('Accuracy')\n",
        "plt.xlabel('Momentum')\n",
        "nepoch = 40\n",
        "lr = 0.01\n",
        "\n",
        "for momentum in momentums:\n",
        "\n",
        "  torch.manual_seed(69)\n",
        "  CNN = ConvNet()\n",
        "  conv_LSTM = LRCN(CNN)\n",
        "  trained_net,avg_loss, avg_acc, test_loss, test_acc = train_model(data_train, data_test, conv_LSTM, loss, nepoch=nepoch, momentum = momentum ,batch_size = 10,lr = lr, use_cuda = True, print_output = False, optimiser = 'SGD')\n",
        "  X_test, y_test = data_test.get_data()\n",
        "  trained_net = trained_net.to(torch.device('cpu'))\n",
        "  pred = trained_net(X_test)\n",
        "  accur = accuracy(pred,y_test)\n",
        "  acc.append(accur)\n",
        "  \n",
        "plt.plot(momentums,acc)"
      ],
      "execution_count": null,
      "outputs": [
        {
          "output_type": "stream",
          "text": [
            "final loss: 0.7707245945930481\n",
            "final loss: 0.7741596698760986\n",
            "final loss: 0.7580082416534424\n",
            "final loss: 0.8585305213928223\n",
            "final loss: 1.0053373575210571\n",
            "final loss: 0.8399456143379211\n",
            "final loss: 0.9833918213844299\n",
            "final loss: 0.9600781798362732\n"
          ],
          "name": "stdout"
        },
        {
          "output_type": "stream",
          "text": [
            "No handles with labels found to put in legend.\n"
          ],
          "name": "stderr"
        },
        {
          "output_type": "stream",
          "text": [
            "final loss: 1.490085244178772\n"
          ],
          "name": "stdout"
        },
        {
          "output_type": "execute_result",
          "data": {
            "text/plain": [
              "<matplotlib.legend.Legend at 0x7f011c4abbd0>"
            ]
          },
          "metadata": {
            "tags": []
          },
          "execution_count": 33
        },
        {
          "output_type": "display_data",
          "data": {
            "image/png": "[encoded data removed]",
            "text/plain": [
              "<Figure size 432x288 with 1 Axes>"
            ]
          },
          "metadata": {
            "tags": [],
            "needs_background": "light"
          }
        }
      ]
    }
  ]
}