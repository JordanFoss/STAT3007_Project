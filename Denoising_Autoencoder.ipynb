{
  "nbformat": 4,
  "nbformat_minor": 0,
  "metadata": {
    "colab": {
      "name": "Denoising Autoencoder.ipynb",
      "provenance": [],
      "authorship_tag": "ABX9TyMt25ChyGTP8LsCNeBwGdZB",
      "include_colab_link": true
    },
    "kernelspec": {
      "name": "python3",
      "display_name": "Python 3"
    }
  },
  "cells": [
    {
      "cell_type": "markdown",
      "metadata": {
        "id": "view-in-github",
        "colab_type": "text"
      },
      "source": [
        "<a href=\"https://colab.research.google.com/github/JordanFoss/STAT3007_Project/blob/main/Denoising_Autoencoder.ipynb\" target=\"_parent\"><img src=\"https://colab.research.google.com/assets/colab-badge.svg\" alt=\"Open In Colab\"/></a>"
      ]
    },
    {
      "cell_type": "code",
      "metadata": {
        "id": "IbpSvKNDv2QU"
      },
      "source": [
        "import torch\n",
        "import torch.nn as nn\n",
        "import matplotlib.pyplot as plt\n",
        "from torch.utils.data import DataLoader\n",
        "from torchvision.transforms import ToTensor\n",
        "from torchvision.datasets import MNIST"
      ],
      "execution_count": 1,
      "outputs": []
    },
    {
      "cell_type": "code",
      "metadata": {
        "id": "tAw3sg8MdtbP"
      },
      "source": [
        "class Encoder(nn.Module):\n",
        "  def __init__(self, filters):\n",
        "    super(Encoder, self).__init__()\n",
        "    (W, K, S) = (28, 5, 1)\n",
        "    P = (W*S-W-S+K)//2\n",
        "    self.conv = nn.Conv2d(1, filters, K, S, P)\n",
        "  def forward(self, x):\n",
        "    x = self.conv(x)\n",
        "    x = nn.functional.relu(x)\n",
        "    return x\n",
        "\n",
        "\n",
        "class Decoder(nn.Module):\n",
        "  def __init__(self, filters):\n",
        "    super(Decoder,self).__init__()\n",
        "    (W, K, S) = (28, 1, 1)\n",
        "    P = (W*S-W-S+K)//2\n",
        "    self.conv = nn.Conv2d(filters, 1, K, S, P)\n",
        "  def forward(self, x):\n",
        "    x = self.conv(x)\n",
        "    x = torch.sigmoid(x)\n",
        "    return x\n"
      ],
      "execution_count": 2,
      "outputs": []
    },
    {
      "cell_type": "code",
      "metadata": {
        "id": "RDxh1o-jd8fA"
      },
      "source": [
        "class Autoencoder(nn.Module):\n",
        "  def __init__(self, filters):\n",
        "    super(Autoencoder,self).__init__()\n",
        "    self.filters = filters\n",
        "    self.encoder = Encoder(filters)\n",
        "    self.decoder = Decoder(filters)\n",
        "  def forward(self, x):\n",
        "    x = self.encoder(x)\n",
        "    x = self.decoder(x)\n",
        "    return x\n"
      ],
      "execution_count": 4,
      "outputs": []
    },
    {
      "cell_type": "code",
      "metadata": {
        "id": "ZHioS3Bzd_5b"
      },
      "source": [
        "def noisify(img):\n",
        "  noise = 0.4*torch.randn(img.shape).to(device)\n",
        "  img = img + noise\n",
        "  img = torch.clamp(img, 0, 1)\n",
        "  return img"
      ],
      "execution_count": 5,
      "outputs": []
    },
    {
      "cell_type": "code",
      "metadata": {
        "id": "UidrZuZYeKKT"
      },
      "source": [
        "def train_AE(ae, dloader, nepochs, lr):\n",
        "  criterion = nn.MSELoss()\n",
        "  optimizer = torch.optim.Adam(ae.parameters(), lr=lr)\n",
        "  for epoch in range(nepochs):\n",
        "    for i, (img, _) in enumerate(dloader):\n",
        "      img = img.to(device)\n",
        "      optimizer.zero_grad()\n",
        "      out = ae(noisify(img))\n",
        "      loss = criterion(out, img)\n",
        "      loss.backward()\n",
        "      optimizer.step()\n",
        "      print('[%2d,%3d] loss: %.6f' % (epoch+1,i+1,loss.item()),end='\\r')\n",
        "    print('\\n', end ='\\r')\n"
      ],
      "execution_count": 6,
      "outputs": []
    },
    {
      "cell_type": "code",
      "metadata": {
        "id": "-AwdjXskeSfM"
      },
      "source": [
        "# set device to GPU if available\n",
        "device = torch.device('cuda') if torch.cuda.is_available() else torch.device('cpu')\n",
        "# load MNIST training and testing data\n",
        "mnist_tn = MNIST('./', transform=ToTensor(), download=False, train=True)\n",
        "mnist_ts = MNIST('./', transform=ToTensor(), download=False, train=False)\n",
        "dataloader_tn = DataLoader(mnist_tn, batch_size=250, shuffle=True,num_workers = 1)\n",
        "dataloader_ts = DataLoader(mnist_ts, batch_size=10000)\n",
        "# train an autoencoder with 4 filters\n",
        "ae = Autoencoder(4).to(device)\n",
        "train_AE(ae, dataloader_tn, 5, 0.01)\n",
        "torch.save(ae,'netAE')\n"
      ],
      "execution_count": null,
      "outputs": []
    }
  ]
}