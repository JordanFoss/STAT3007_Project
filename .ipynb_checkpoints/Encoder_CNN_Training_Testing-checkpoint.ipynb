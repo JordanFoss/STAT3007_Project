{
 "cells": [
  {
   "cell_type": "markdown",
   "metadata": {
    "colab_type": "text",
    "id": "view-in-github"
   },
   "source": [
    "<a href=\"https://colab.research.google.com/github/JordanFoss/STAT3007_Project/blob/main/Encoder_CNN_Training_Testing.ipynb\" target=\"_parent\"><img src=\"https://colab.research.google.com/assets/colab-badge.svg\" alt=\"Open In Colab\"/></a>"
   ]
  },
  {
   "cell_type": "markdown",
   "metadata": {
    "id": "6EoCwvP_RO3d"
   },
   "source": [
    "# Loading all the needed things\n",
    "\n",
    "__Note:__ to do encoder classification. You must have a trained autoencoder first. Here we loaded a model from our google drive."
   ]
  },
  {
   "cell_type": "code",
   "execution_count": 3,
   "metadata": {
    "colab": {
     "base_uri": "https://localhost:8080/"
    },
    "id": "8Gp6PqffCFdK",
    "outputId": "6e435e95-b337-4fcc-8fd8-be2805b5bf9d"
   },
   "outputs": [
    {
     "name": "stdout",
     "output_type": "stream",
     "text": [
      "Cloning into 'STAT3007_Project'...\n",
      "remote: Enumerating objects: 4307, done.\u001b[K\n",
      "remote: Counting objects: 100% (585/585), done.\u001b[K\n",
      "remote: Compressing objects: 100% (366/366), done.\u001b[K\n",
      "remote: Total 4307 (delta 220), reused 581 (delta 216), pack-reused 3722\u001b[K\n",
      "Receiving objects: 100% (4307/4307), 973.48 MiB | 23.69 MiB/s, done.\n",
      "Resolving deltas: 100% (805/805), done.\n",
      "Checking out files: 100% (2956/2956), done.\n",
      "/content/STAT3007_Project\n"
     ]
    }
   ],
   "source": [
    "!git clone https://github.com/JordanFoss/STAT3007_Project.git\n",
    "%cd STAT3007_Project/"
   ]
  },
  {
   "cell_type": "code",
   "execution_count": 4,
   "metadata": {
    "colab": {
     "base_uri": "https://localhost:8080/"
    },
    "id": "Lx3KAPocDQMW",
    "outputId": "d7a3aeab-5b9f-40fd-a189-39f3d7361f7e"
   },
   "outputs": [
    {
     "name": "stdout",
     "output_type": "stream",
     "text": [
      "Collecting colorednoise\n",
      "  Downloading https://files.pythonhosted.org/packages/a3/3e/85645bcaa5ba6003c6e3c650fe23c6352f7aa4a36eb1d700f3609e52963e/colorednoise-1.1.1.tar.gz\n",
      "Requirement already satisfied: numpy in /usr/local/lib/python3.7/dist-packages (from colorednoise) (1.19.5)\n",
      "Building wheels for collected packages: colorednoise\n",
      "  Building wheel for colorednoise (setup.py) ... \u001b[?25l\u001b[?25hdone\n",
      "  Created wheel for colorednoise: filename=colorednoise-1.1.1-cp37-none-any.whl size=3983 sha256=c4b5c441dabad7aaf0f6c1784c0cb0e4fafbf82a019cb4fcb89423e7774f2ef3\n",
      "  Stored in directory: /root/.cache/pip/wheels/84/be/f3/3e7e1c80ebab3f6f0dbd3e34e787b902d2280d66706485fef4\n",
      "Successfully built colorednoise\n",
      "Installing collected packages: colorednoise\n",
      "Successfully installed colorednoise-1.1.1\n"
     ]
    }
   ],
   "source": [
    "pip install colorednoise"
   ]
  },
  {
   "cell_type": "code",
   "execution_count": 5,
   "metadata": {
    "id": "UtAlHGDRC8JQ"
   },
   "outputs": [],
   "source": [
    "import librosa\n",
    "from librosa import display\n",
    "import colorednoise as cn\n",
    "import torch\n",
    "import numpy as np\n",
    "from IPython.display import Audio\n",
    "import glob\n",
    "from pre_process import *\n",
    "from data_loading import *\n",
    "import os\n",
    "import torch.optim as optim\n",
    "import torch\n",
    "import torch.nn as nn\n",
    "import matplotlib.pyplot as plt\n",
    "from torch.utils.data import DataLoader, Dataset, random_split\n",
    "from torchvision.transforms import ToTensor\n",
    "\n",
    "import scipy\n",
    "from torchsummary import summary\n",
    "\n",
    "from sklearn.model_selection import train_test_split\n",
    "from sklearn.naive_bayes import MultinomialNB\n",
    "from sklearn import metrics\n",
    "import numpy as np\n",
    "\n",
    "# load our own python files\n",
    "from pre_process import *\n",
    "from data_loading import *\n",
    "from Models import *\n",
    "from Model_Functions import *"
   ]
  },
  {
   "cell_type": "code",
   "execution_count": 2,
   "metadata": {
    "colab": {
     "base_uri": "https://localhost:8080/"
    },
    "id": "qLiSpyG-tlNH",
    "outputId": "4490e0e5-16d2-4375-ee72-1b0aea73bcaa"
   },
   "outputs": [
    {
     "name": "stdout",
     "output_type": "stream",
     "text": [
      "Mounted at /content/drive\n"
     ]
    }
   ],
   "source": [
    "from google.colab import drive\n",
    "drive.mount('/content/drive',force_remount= True)"
   ]
  },
  {
   "cell_type": "markdown",
   "metadata": {
    "id": "OVEOuyzOkvIw"
   },
   "source": [
    "## load the noisy stratified spectrogram data"
   ]
  },
  {
   "cell_type": "code",
   "execution_count": 6,
   "metadata": {
    "id": "60_3tb6Vd1iA"
   },
   "outputs": [],
   "source": [
    "# here, the first number means the data was split for once, and it belonged to the that split e.g. noisy_6 contains data split into the 60% once.\n",
    "# two numbers mean that data was split for twice, it belonged to the first split and the second split e.g. noisy_4_8 contains data split into 40% first, and 80% for second split.\n",
    "\n",
    "# the first split of noisy data is for autoencoder training, then second split on the first test split is for subsequent classification training.\n",
    "\n",
    "noisy_6 = np.load('/content/drive/MyDrive/STAT3007_project/train_test_split_1185/noisy_6.npy')\n",
    "clean_6 = np.load('/content/drive/MyDrive/STAT3007_project/train_test_split_1185/clean_6.npy')\n",
    "targets_6 = np.load('/content/drive/MyDrive/STAT3007_project/train_test_split_1185/target_6.npy')\n",
    "\n",
    "\n",
    "noisy_4 = np.load('/content/drive/MyDrive/STAT3007_project/train_test_split_1185/noisy_4.npy')\n",
    "clean_4 = np.load('/content/drive/MyDrive/STAT3007_project/train_test_split_1185/clean_4.npy')\n",
    "targets_4 = np.load('/content/drive/MyDrive/STAT3007_project/train_test_split_1185/targets_4.npy')\n",
    "\n",
    "noisy_4_8 = np.load('/content/drive/MyDrive/STAT3007_project/train_test_split_1185/noisy_4_8.npy')\n",
    "noisy_4_2 = np.load('/content/drive/MyDrive/STAT3007_project/train_test_split_1185/noisy_4_2.npy')\n",
    "clean_4_8 = np.load('/content/drive/MyDrive/STAT3007_project/train_test_split_1185/clean_4_8.npy')\n",
    "clean_4_2 = np.load('/content/drive/MyDrive/STAT3007_project/train_test_split_1185/clean_4_2.npy')\n",
    "targets_4_8 = np.load('/content/drive/MyDrive/STAT3007_project/train_test_split_1185/targets_4_8.npy')\n",
    "targets_4_2 = np.load('/content/drive/MyDrive/STAT3007_project/train_test_split_1185/targets_4_2.npy')\n",
    "\n"
   ]
  },
  {
   "cell_type": "code",
   "execution_count": 7,
   "metadata": {
    "id": "FPA8TN5Yfg4R"
   },
   "outputs": [],
   "source": [
    "# reshape\n",
    "noisy_6 = noisy_6.reshape(noisy_6.shape[0],1,noisy_6.shape[1],noisy_6.shape[2])\n",
    "clean_6 = clean_6.reshape(clean_6.shape[0],1,clean_6.shape[1],clean_6.shape[2])\n",
    "\n",
    "noisy_4 = noisy_4.reshape(noisy_4.shape[0],1,noisy_4.shape[1],noisy_4.shape[2])\n",
    "clean_4 = clean_4.reshape(clean_4.shape[0],1,clean_4.shape[1],clean_4.shape[2])\n",
    "\n",
    "noisy_4_8 = noisy_4_8.reshape(noisy_4_8.shape[0],1,noisy_4_8.shape[1],noisy_4_8.shape[2])\n",
    "clean_4_8 = clean_4_8.reshape(clean_4_8.shape[0],1,clean_4_8.shape[1],clean_4_8.shape[2])\n",
    "noisy_4_2 = noisy_4_2.reshape(noisy_4_2.shape[0],1,noisy_4_2.shape[1],noisy_4_2.shape[2])\n",
    "clean_4_2 = clean_4_2.reshape(clean_4_2.shape[0],1,clean_4_2.shape[1],clean_4_2.shape[2])"
   ]
  },
  {
   "cell_type": "code",
   "execution_count": 8,
   "metadata": {
    "id": "aW8y2Wh-A8df"
   },
   "outputs": [],
   "source": [
    "# make them into datasets\n",
    "denoise_train = DatasetWrapper(torch.tensor(noisy_6), torch.tensor(clean_6))\n",
    "denoise_test = DatasetWrapper(torch.tensor(noisy_4), torch.tensor(clean_4))"
   ]
  },
  {
   "cell_type": "markdown",
   "metadata": {
    "id": "e-ymheCOsHW2"
   },
   "source": [
    "## Load saved model"
   ]
  },
  {
   "cell_type": "code",
   "execution_count": 9,
   "metadata": {
    "id": "89DcVoglmrNC"
   },
   "outputs": [],
   "source": [
    "state_save_path = '/content/drive/MyDrive/STAT3007_project/denoised_saved_model'\n",
    "#torch.save(net.state_dict(), state_save_path)\n",
    "model = torch.load(state_save_path)"
   ]
  },
  {
   "cell_type": "code",
   "execution_count": 10,
   "metadata": {
    "colab": {
     "base_uri": "https://localhost:8080/"
    },
    "id": "Nefb2Y9clI-m",
    "outputId": "f65ad12c-5ec2-4c77-b235-3b51fbf5348a"
   },
   "outputs": [
    {
     "data": {
      "text/plain": [
       "Autoencoder(\n",
       "  (encoder): Encoder(\n",
       "    (conv): Sequential(\n",
       "      (0): Conv2d(1, 16, kernel_size=(4, 2), stride=(1, 1))\n",
       "      (1): ReLU()\n",
       "      (2): MaxPool2d(kernel_size=2, stride=2, padding=0, dilation=1, ceil_mode=False)\n",
       "      (3): ReLU()\n",
       "      (4): Conv2d(16, 16, kernel_size=(4, 2), stride=(1, 1))\n",
       "      (5): ReLU()\n",
       "      (6): MaxPool2d(kernel_size=2, stride=2, padding=0, dilation=1, ceil_mode=False)\n",
       "      (7): Conv2d(16, 16, kernel_size=(4, 2), stride=(1, 1))\n",
       "      (8): ReLU()\n",
       "    )\n",
       "  )\n",
       "  (decoder): Decoder(\n",
       "    (conv): Sequential(\n",
       "      (0): ConvTranspose2d(16, 16, kernel_size=(4, 2), stride=(1, 1))\n",
       "      (1): ReLU()\n",
       "      (2): Upsample(size=(59, 30), mode=nearest)\n",
       "      (3): ConvTranspose2d(16, 16, kernel_size=(4, 2), stride=(1, 1))\n",
       "      (4): ReLU()\n",
       "      (5): Upsample(size=(125, 62), mode=nearest)\n",
       "      (6): ConvTranspose2d(16, 1, kernel_size=(4, 2), stride=(1, 1))\n",
       "    )\n",
       "  )\n",
       ")"
      ]
     },
     "execution_count": 10,
     "metadata": {
      "tags": []
     },
     "output_type": "execute_result"
    }
   ],
   "source": [
    "model"
   ]
  },
  {
   "cell_type": "code",
   "execution_count": 11,
   "metadata": {
    "colab": {
     "base_uri": "https://localhost:8080/"
    },
    "id": "LrtDM2cGvpw-",
    "outputId": "0d87ccca-5079-402e-b608-d2bf17386255"
   },
   "outputs": [
    {
     "data": {
      "text/plain": [
       "Encoder(\n",
       "  (conv): Sequential(\n",
       "    (0): Conv2d(1, 16, kernel_size=(4, 2), stride=(1, 1))\n",
       "    (1): ReLU()\n",
       "    (2): MaxPool2d(kernel_size=2, stride=2, padding=0, dilation=1, ceil_mode=False)\n",
       "    (3): ReLU()\n",
       "    (4): Conv2d(16, 16, kernel_size=(4, 2), stride=(1, 1))\n",
       "    (5): ReLU()\n",
       "    (6): MaxPool2d(kernel_size=2, stride=2, padding=0, dilation=1, ceil_mode=False)\n",
       "    (7): Conv2d(16, 16, kernel_size=(4, 2), stride=(1, 1))\n",
       "    (8): ReLU()\n",
       "  )\n",
       ")"
      ]
     },
     "execution_count": 11,
     "metadata": {
      "tags": []
     },
     "output_type": "execute_result"
    }
   ],
   "source": [
    "model.encoder"
   ]
  },
  {
   "cell_type": "code",
   "execution_count": 12,
   "metadata": {
    "id": "QE4HBhsVxGFF"
   },
   "outputs": [],
   "source": [
    "encoder = model.encoder\n",
    "\n",
    "# construct compressed feature set\n",
    "X_train_feature = encoder(torch.tensor(noisy_4_8)).detach()\n",
    "X_test_feature = encoder(torch.tensor(noisy_4_2)).detach()\n",
    "\n",
    "y_train = torch.tensor(targets_4_8)\n",
    "y_test = torch.tensor(targets_4_2)\n",
    "\n",
    "# made into datasets\n",
    "data_train = DatasetWrapper(X_train_feature,y_train)\n",
    "data_test = DatasetWrapper(X_test_feature,y_test)"
   ]
  },
  {
   "cell_type": "markdown",
   "metadata": {
    "id": "u-9xnaLd8wUv"
   },
   "source": [
    "# CNN model"
   ]
  },
  {
   "cell_type": "markdown",
   "metadata": {
    "id": "-DE_Lq3mTrnQ"
   },
   "source": [
    "## Train/test"
   ]
  },
  {
   "cell_type": "code",
   "execution_count": 13,
   "metadata": {
    "id": "rCjyHbfXqqaQ"
   },
   "outputs": [],
   "source": [
    "def train_model(data_train, \n",
    "                data_test, \n",
    "                net, loss, \n",
    "                nepoch , \n",
    "                lr = 0.01, \n",
    "                batch_size = -1, \n",
    "                momentum = 0,\n",
    "                use_cuda = False, \n",
    "                print_output = True, \n",
    "                optimiser = 'SGD'):\n",
    "\n",
    "  # setting up arrays for recording\n",
    "  test_acc = []\n",
    "  avg_acc = []\n",
    "\n",
    "  test_loss = []\n",
    "  avg_loss = []\n",
    "  \n",
    "  # appropriate data type for CPU or GPU\n",
    "  device = None\n",
    "  if use_cuda and torch.cuda.is_available():\n",
    "    dtype = torch.cuda.FloatTensor\n",
    "    device = torch.device(\"cuda\")\n",
    "    net = net.to(device)\n",
    "  else:\n",
    "    dtype = torch.FloatTensor\n",
    "\n",
    "  if optimiser == 'SGD':\n",
    "    optimizer = optim.SGD(net.parameters(), lr = lr, momentum = momentum)\n",
    "  else:\n",
    "    optimizer = optim.Adam(net.parameters(), lr = lr, momentum = momentum)\n",
    "  data_train = data_train.change_type(dtype)\n",
    "  data_test = data_test.change_type(dtype)\n",
    "\n",
    "  X_test,y_test = data_test.get_data()\n",
    "\n",
    "  y_test = y_test.type(torch.LongTensor)\n",
    "  if device != None:\n",
    "    y_test = y_test.type(torch.cuda.LongTensor)\n",
    "\n",
    "  data_loader = DataLoader(data_train, batch_size = batch_size, shuffle = True)\n",
    "\n",
    "  for epoch in range(nepoch):\n",
    "    batch_acc = []\n",
    "    batch_loss = []\n",
    "    for X_batch, y_batch in data_loader:\n",
    "      \n",
    "\n",
    "      y_batch = y_batch.type(torch.LongTensor)\n",
    "      if use_cuda and device != None:\n",
    "        X_batch = X_batch.to(device)\n",
    "        y_batch = y_batch.to(device)\n",
    "        y_batch = y_batch.type(torch.cuda.LongTensor)\n",
    "\n",
    "      optimizer.zero_grad()\n",
    "\n",
    "\n",
    "      pred = net(X_batch)\n",
    "      Rn = loss(pred, y_batch)\n",
    "      accur = accuracy(pred,y_batch)\n",
    "\n",
    "      batch_acc.append(accur)\n",
    "      batch_loss.append(Rn.to(torch.device('cpu')).detach().numpy())\n",
    "\n",
    "      Rn.backward()\n",
    "      optimizer.step()\n",
    "\n",
    "\n",
    "    avg_batch_loss = np.mean(batch_loss)\n",
    "    avg_batch_acc = np.mean(batch_acc)\n",
    "    avg_acc.append(avg_batch_acc)\n",
    "    avg_loss.append(avg_batch_loss)\n",
    "\n",
    "    pred = net(X_test)\n",
    "    Rn = loss(pred, y_test)\n",
    "    accur = accuracy(pred,y_test)\n",
    "    test_acc.append(accur)\n",
    "    test_loss.append(Rn.to(torch.device('cpu')).detach().numpy())\n",
    "\n",
    "\n",
    "    if print_output:\n",
    "      print('epoch:', epoch)\n",
    "      print('loss:',Rn.item())\n",
    "      print('------------')\n",
    "    \n",
    "\n",
    "  print('final loss:', Rn.item())\n",
    "\n",
    "  return net, avg_loss, avg_acc, test_loss, test_acc"
   ]
  },
  {
   "cell_type": "markdown",
   "metadata": {
    "id": "soP65qHzT0Wz"
   },
   "source": [
    "Hyperparameters:\n",
    "* random seed = 69\n",
    "* Optimiser: SGD\n",
    "* lr: 0.01\n",
    "* epoch number: 40\n",
    "* momentum: 0.2"
   ]
  },
  {
   "cell_type": "code",
   "execution_count": 14,
   "metadata": {
    "colab": {
     "base_uri": "https://localhost:8080/"
    },
    "id": "3fQiJ0e3p0LL",
    "outputId": "f614125f-9a44-439a-8ec9-04d9644c3e09"
   },
   "outputs": [
    {
     "name": "stdout",
     "output_type": "stream",
     "text": [
      "final loss: 1.0542384386062622\n"
     ]
    }
   ],
   "source": [
    "# hyperparameters:\n",
    "nepoch = 50\n",
    "lr = 0.01\n",
    "momentum = 0.2\n",
    "optimiser = 'SGD'\n",
    "loss = nn.CrossEntropyLoss()\n",
    "\n",
    "torch.manual_seed(69)\n",
    "\n",
    "num_sample, channels, row, column = X_train_feature.shape\n",
    "\n",
    "CNN = ConvNet(input_shape = (channels, row, column), contain_linear=True)\n",
    "trained_net,avg_loss, avg_acc, test_loss, test_acc = train_model(data_train, data_test, CNN,loss, nepoch=nepoch, momentum = momentum ,batch_size = 10,lr = lr, use_cuda = True, print_output = False, optimiser = optimiser)"
   ]
  },
  {
   "cell_type": "code",
   "execution_count": 15,
   "metadata": {
    "colab": {
     "base_uri": "https://localhost:8080/",
     "height": 590
    },
    "id": "UU-t8yz9rPoB",
    "outputId": "592e5f80-49cb-4407-ceda-1a56ed715b65"
   },
   "outputs": [
    {
     "data": {
      "text/plain": [
       "<matplotlib.legend.Legend at 0x7f7829058e10>"
      ]
     },
     "execution_count": 15,
     "metadata": {
      "tags": []
     },
     "output_type": "execute_result"
    },
    {
     "data": {
      "image/png": "[encoded data removed]",
      "text/plain": [
       "<Figure size 432x288 with 1 Axes>"
      ]
     },
     "metadata": {
      "needs_background": "light",
      "tags": []
     },
     "output_type": "display_data"
    },
    {
     "data": {
      "image/png": "[encoded data removed]",
      "text/plain": [
       "<Figure size 432x288 with 1 Axes>"
      ]
     },
     "metadata": {
      "needs_background": "light",
      "tags": []
     },
     "output_type": "display_data"
    }
   ],
   "source": [
    "epoches = [i for i in range(nepoch)]\n",
    "\n",
    "fig = plt.figure()\n",
    "plt.plot(epoches,test_loss, label = 'test')\n",
    "plt.plot(epoches,avg_loss, label = 'train', color = 'r')\n",
    "plt.title('Loss over epoches')\n",
    "plt.xlabel('Epoches')\n",
    "plt.ylabel('Loss')\n",
    "plt.legend()\n",
    "\n",
    "fig = plt.figure()\n",
    "plt.plot(epoches,test_acc, label = 'test')\n",
    "plt.plot(epoches,avg_acc, label = 'train', color = 'r')\n",
    "plt.title('Accuracy over epoches')\n",
    "plt.xlabel('Epoches')\n",
    "plt.ylabel('Accuracy')\n",
    "plt.legend()"
   ]
  },
  {
   "cell_type": "code",
   "execution_count": 17,
   "metadata": {
    "colab": {
     "base_uri": "https://localhost:8080/",
     "height": 296
    },
    "id": "XihNLzWqV4QV",
    "outputId": "24235873-aece-4ac4-9f94-3caef28173b8"
   },
   "outputs": [
    {
     "data": {
      "text/plain": [
       "<sklearn.metrics._plot.confusion_matrix.ConfusionMatrixDisplay at 0x7f7828f59790>"
      ]
     },
     "execution_count": 17,
     "metadata": {
      "tags": []
     },
     "output_type": "execute_result"
    },
    {
     "data": {
      "image/png": "[encoded data removed]",
      "text/plain": [
       "<Figure size 432x288 with 2 Axes>"
      ]
     },
     "metadata": {
      "needs_background": "light",
      "tags": []
     },
     "output_type": "display_data"
    }
   ],
   "source": [
    "X_test,y_test = data_test.get_data()\n",
    "trained_net = trained_net.to(torch.device('cpu'))\n",
    "pred = trained_net(X_test)\n",
    "y_pred = classification(pred)\n",
    "\n",
    "labels = ['Calm', 'Happy', 'Sad', 'Angry', 'Suprised']\n",
    "confusion = metrics.confusion_matrix(y_test.detach().numpy(), y_pred)\n",
    "thing = metrics.ConfusionMatrixDisplay(confusion, display_labels=labels)\n",
    "thing.plot(values_format = '.5g')"
   ]
  },
  {
   "cell_type": "code",
   "execution_count": 15,
   "metadata": {
    "id": "D6TBMA0lxWPu"
   },
   "outputs": [],
   "source": []
  }
 ],
 "metadata": {
  "accelerator": "GPU",
  "colab": {
   "collapsed_sections": [
    "Zh8U06KNvouE",
    "e-ymheCOsHW2"
   ],
   "include_colab_link": true,
   "name": "optimal_denosing_autoencoder.ipynb",
   "provenance": []
  },
  "kernelspec": {
   "display_name": "Python 3",
   "language": "python",
   "name": "python3"
  },
  "language_info": {
   "codemirror_mode": {
    "name": "ipython",
    "version": 3
   },
   "file_extension": ".py",
   "mimetype": "text/x-python",
   "name": "python",
   "nbconvert_exporter": "python",
   "pygments_lexer": "ipython3",
   "version": "3.6.2"
  }
 },
 "nbformat": 4,
 "nbformat_minor": 1
}
