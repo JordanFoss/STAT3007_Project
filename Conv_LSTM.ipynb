{
  "nbformat": 4,
  "nbformat_minor": 0,
  "metadata": {
    "colab": {
      "name": "Conv_LSTM.ipynb",
      "provenance": [],
      "toc_visible": true,
      "authorship_tag": "ABX9TyPubDlYGaiffgFW06jFhyjD",
      "include_colab_link": true
    },
    "kernelspec": {
      "name": "python3",
      "display_name": "Python 3"
    },
    "language_info": {
      "name": "python"
    },
    "accelerator": "GPU"
  },
  "cells": [
    {
      "cell_type": "markdown",
      "metadata": {
        "id": "view-in-github",
        "colab_type": "text"
      },
      "source": [
        "<a href=\"https://colab.research.google.com/github/JordanFoss/STAT3007_Project/blob/main/Conv_LSTM.ipynb\" target=\"_parent\"><img src=\"https://colab.research.google.com/assets/colab-badge.svg\" alt=\"Open In Colab\"/></a>"
      ]
    },
    {
      "cell_type": "code",
      "metadata": {
        "colab": {
          "base_uri": "https://localhost:8080/"
        },
        "id": "QZWQb0ebc-fP",
        "outputId": "6b6c72a0-239b-4241-9fe2-b5a4226737b9"
      },
      "source": [
        "!git clone https://github.com/JordanFoss/STAT3007_Project.git\n",
        "%cd STAT3007_Project/"
      ],
      "execution_count": 5,
      "outputs": [
        {
          "output_type": "stream",
          "text": [
            "Cloning into 'STAT3007_Project'...\n",
            "remote: Enumerating objects: 4029, done.\u001b[K\n",
            "remote: Counting objects: 100% (307/307), done.\u001b[K\n",
            "remote: Compressing objects: 100% (249/249), done.\u001b[K\n",
            "remote: Total 4029 (delta 138), reused 191 (delta 56), pack-reused 3722\u001b[K\n",
            "Receiving objects: 100% (4029/4029), 681.74 MiB | 30.00 MiB/s, done.\n",
            "Resolving deltas: 100% (723/723), done.\n",
            "Checking out files: 100% (2861/2861), done.\n",
            "/content/STAT3007_Project\n"
          ],
          "name": "stdout"
        }
      ]
    },
    {
      "cell_type": "code",
      "metadata": {
        "id": "dEw6Ckz2dADM"
      },
      "source": [
        "import torch\n",
        "import torch.nn as nn\n",
        "import matplotlib.pyplot as plt\n",
        "from torchvision.transforms import ToTensor\n",
        "import scipy\n",
        "import numpy as np\n",
        "import librosa\n",
        "import torch.optim as optim\n",
        "from torch.utils.data import Dataset, DataLoader, random_split\n",
        "from torch.autograd import Variable\n",
        "import pandas as pd\n",
        "import glob\n",
        "import os\n",
        "from librosa import display\n",
        "from torchsummary import summary\n",
        "\n",
        "from IPython.display import Audio"
      ],
      "execution_count": 6,
      "outputs": []
    },
    {
      "cell_type": "code",
      "metadata": {
        "colab": {
          "base_uri": "https://localhost:8080/"
        },
        "id": "D0LO_f7TdtXz",
        "outputId": "3b2a43e9-21fa-4ea9-e99f-22bb1c9af8a0"
      },
      "source": [
        "!pip install colorednoise as cn"
      ],
      "execution_count": 7,
      "outputs": [
        {
          "output_type": "stream",
          "text": [
            "Requirement already satisfied: colorednoise in /usr/local/lib/python3.7/dist-packages (1.1.1)\n",
            "Requirement already satisfied: as in /usr/local/lib/python3.7/dist-packages (0.1)\n",
            "Requirement already satisfied: cn in /usr/local/lib/python3.7/dist-packages (0.0.0.0)\n",
            "Requirement already satisfied: numpy in /usr/local/lib/python3.7/dist-packages (from colorednoise) (1.19.5)\n"
          ],
          "name": "stdout"
        }
      ]
    },
    {
      "cell_type": "code",
      "metadata": {
        "id": "jXPrJdoQdBoF"
      },
      "source": [
        "import pre_process\n",
        "import data_loading\n",
        "import CNN_Model\n",
        "from data_loading import *"
      ],
      "execution_count": 8,
      "outputs": []
    },
    {
      "cell_type": "code",
      "metadata": {
        "id": "0nVTA7Undqxc"
      },
      "source": [
        "X,y = data_loading.load_samples(os.getcwd())"
      ],
      "execution_count": 9,
      "outputs": []
    },
    {
      "cell_type": "code",
      "metadata": {
        "id": "QT0Z8Azqmk5w"
      },
      "source": [
        "X = torch.tensor(X)\n",
        "X = X.reshape(X.shape[0],1,X.shape[1],X.shape[2])\n",
        "y = torch.tensor(y)"
      ],
      "execution_count": 10,
      "outputs": []
    },
    {
      "cell_type": "code",
      "metadata": {
        "colab": {
          "base_uri": "https://localhost:8080/"
        },
        "id": "P_aDV5To1Zrl",
        "outputId": "b0bad6b8-a97b-482f-e574-2f47f43ab2e6"
      },
      "source": [
        "X.shape"
      ],
      "execution_count": 11,
      "outputs": [
        {
          "output_type": "execute_result",
          "data": {
            "text/plain": [
              "torch.Size([480, 1, 128, 63])"
            ]
          },
          "metadata": {
            "tags": []
          },
          "execution_count": 11
        }
      ]
    },
    {
      "cell_type": "code",
      "metadata": {
        "id": "iv8lw7Y2mixF"
      },
      "source": [
        "# RNN combined with CNN\n",
        "class LRCN(nn.Module):\n",
        "    def __init__(self, CNN, shape = (24,32,3)):\n",
        "        super(LRCN, self).__init__()\n",
        "\n",
        "        self.cnn = CNN\n",
        "        self.shape = shape\n",
        "\n",
        "        channel, freq, times = shape\n",
        "        self.lstm_layers = nn.LSTM(freq*channel*times,256,num_layers = 2, bidirectional = True)\n",
        "        self.linear = nn.Sequential(nn.Linear(256*2, 5))\n",
        "        self.flatten = nn.Flatten()\n",
        "\n",
        "    def forward(self, x, step_size = 21, use_cuda = False):\n",
        "\n",
        "      if use_cuda:\n",
        "        h_t = torch.zeros(4,x.shape[0] ,256, dtype=torch.float).to(x.device)\n",
        "        c_t = torch.zeros(4,x.shape[0], 256, dtype=torch.float).to(x.device)\n",
        "\n",
        "      else:\n",
        "        h_t = torch.zeros(4,x.shape[0], 256, dtype=torch.float)\n",
        "        c_t = torch.zeros(4,x.shape[0], 256, dtype=torch.float)\n",
        "      \n",
        "      look_ahead_time = 21\n",
        "      for current_time in range(0,x.shape[-1], step_size):\n",
        "\n",
        "        x_t = x[:,:,:,current_time:current_time+look_ahead_time]\n",
        "        conv_x = self.cnn(x_t)\n",
        "\n",
        "        conv_x_flat =  self.flatten(conv_x)\n",
        "\n",
        "        conv_x_flat = conv_x_flat.reshape(1,conv_x_flat.shape[0],conv_x_flat.shape[1])\n",
        "\n",
        "        output, (h_t, c_t) = self.lstm_layers(conv_x_flat, (h_t, c_t))\n",
        "\n",
        "      decision_vec = self.linear(output[0])\n",
        "      return decision_vec"
      ],
      "execution_count": 12,
      "outputs": []
    },
    {
      "cell_type": "code",
      "metadata": {
        "id": "NmwjVjoKvdR6"
      },
      "source": [
        "def train_model(data_train, \n",
        "                data_test, \n",
        "                net, loss, \n",
        "                nepoch , \n",
        "                lr = 0.01, \n",
        "                batch_size = -1, \n",
        "                momentum = 0,\n",
        "                use_cuda = False, \n",
        "                print_output = True, \n",
        "                optimiser = 'SGD'):\n",
        "\n",
        "  # setting up arrays for recording\n",
        "  test_acc = []\n",
        "  avg_acc = []\n",
        "\n",
        "  test_loss = []\n",
        "  avg_loss = []\n",
        "  # appropriate data type for CPU or GPU\n",
        "  device = None\n",
        "  if use_cuda and torch.cuda.is_available():\n",
        "    dtype = torch.cuda.FloatTensor\n",
        "    device = torch.device(\"cuda\")\n",
        "    net = net.to(device)\n",
        "  else:\n",
        "    dtype = torch.FloatTensor\n",
        "\n",
        "  if optimiser == 'SGD':\n",
        "    optimizer = optim.SGD(net.parameters(), lr = lr, momentum = momentum)\n",
        "  else:\n",
        "    optimizer = optim.Adam(net.parameters(), lr = lr, momentum = momentum)\n",
        "  data_train = data_train.change_type(dtype)\n",
        "  data_test = data_test.change_type(dtype)\n",
        "\n",
        "  X_test,y_test = data_test.get_data()\n",
        "\n",
        "  y_test = y_test.type(torch.LongTensor)\n",
        "  if device != None:\n",
        "    y_test = y_test.type(torch.cuda.LongTensor)\n",
        "\n",
        "  data_loader = DataLoader(data_train, batch_size = batch_size, shuffle = True)\n",
        "\n",
        "  for epoch in range(nepoch):\n",
        "    batch_acc = []\n",
        "    batch_loss = []\n",
        "    for X_batch, y_batch in data_loader:\n",
        "      \n",
        "\n",
        "      y_batch = y_batch.type(torch.LongTensor)\n",
        "      if use_cuda and device != None:\n",
        "        X_batch = X_batch.to(device)\n",
        "        y_batch = y_batch.to(device)\n",
        "        y_batch = y_batch.type(torch.cuda.LongTensor)\n",
        "\n",
        "        \n",
        "\n",
        "      optimizer.zero_grad()\n",
        "\n",
        "\n",
        "      pred = net(X_batch, use_cuda = use_cuda)\n",
        "      Rn = loss(pred, y_batch)\n",
        "      accur = CNN_Model.accuracy(pred,y_batch)\n",
        "\n",
        "      batch_acc.append(accur)\n",
        "      batch_loss.append(Rn.to(torch.device('cpu')).detach().numpy())\n",
        "\n",
        "      Rn.backward()\n",
        "      optimizer.step()\n",
        "\n",
        "\n",
        "    avg_batch_loss = np.mean(batch_loss)\n",
        "    avg_batch_acc = np.mean(batch_acc)\n",
        "    avg_acc.append(avg_batch_acc)\n",
        "    avg_loss.append(avg_batch_loss)\n",
        "\n",
        "    pred = net(X_test, use_cuda = use_cuda)\n",
        "    Rn = loss(pred, y_test)\n",
        "    accur = CNN_Model.accuracy(pred,y_test)\n",
        "    test_acc.append(accur)\n",
        "    test_loss.append(Rn.to(torch.device('cpu')).detach().numpy())\n",
        "\n",
        "\n",
        "    if print_output:\n",
        "      print('epoch:', epoch)\n",
        "      print('loss:',Rn.item())\n",
        "      print('------------')\n",
        "    \n",
        "\n",
        "  print('final loss:', Rn.item())\n",
        "\n",
        "  return net, avg_loss, avg_acc, test_loss, test_acc"
      ],
      "execution_count": 13,
      "outputs": []
    },
    {
      "cell_type": "code",
      "metadata": {
        "id": "Jp8y9-qj-yu1"
      },
      "source": [
        "data_sets = data_loading.load_sets(X,y,train_ratio=[0.8], seed = [10])\n",
        "data_train, data_test = data_sets[0]"
      ],
      "execution_count": 14,
      "outputs": []
    },
    {
      "cell_type": "code",
      "metadata": {
        "id": "FEy1yLMGwYkj"
      },
      "source": [
        "loss = nn.CrossEntropyLoss()"
      ],
      "execution_count": 15,
      "outputs": []
    },
    {
      "cell_type": "markdown",
      "metadata": {
        "id": "ILuHvn8vFlQ6"
      },
      "source": [
        "# Hyperparameter tuning\n",
        "* random seed = 69\n",
        "* Optimiser: SGD\n",
        "* lr: 0.01\n",
        "* epoch number: 40 \n",
        "* momentum: 0.2"
      ]
    },
    {
      "cell_type": "code",
      "metadata": {
        "id": "GiLFUPCkYrVZ"
      },
      "source": [
        "# hyperparameter tuning for optimiser, lr and nepoch\n",
        "epoch = [i for i in range(10, 51,10)]\n",
        "fig = plt.figure()\n",
        "loss = nn.CrossEntropyLoss()\n",
        "optimiser = 'Adam'\n",
        "plt.title(' hyperparamter tuning for optimiser: ' + optimiser)\n",
        "plt.ylabel('Accuracy')\n",
        "plt.xlabel('Learning Rate')\n",
        "\n",
        "for nepoch in epoch:\n",
        "\n",
        "  lrs = [i * 0.001 for i in range(1, 11)]\n",
        "  acc = []\n",
        "  for lr in lrs:\n",
        "    torch.manual_seed(69)\n",
        "    CNN = CNN_Model.ConvNet()\n",
        "    conv_LSTM = LRCN(CNN)\n",
        "    trained_net = train_model(data_train, data_test, conv_LSTM, loss, nepoch=nepoch , batch_size = 10,lr = lr, use_cuda = True, print_output = False, optimiser = 'SGD')\n",
        "    X_test, y_test = data_test.get_data()\n",
        "    trained_net = trained_net.to(torch.device('cpu'))\n",
        "    pred = trained_net(X_test)\n",
        "    accur = CNN_Model.accuracy(pred,y_test)\n",
        "    acc.append(accur)\n",
        "  \n",
        "  plt.plot(lrs,acc, label = 'epoch = ' + str(nepoch))\n",
        "\n",
        "plt.legend()"
      ],
      "execution_count": null,
      "outputs": []
    },
    {
      "cell_type": "code",
      "metadata": {
        "id": "oTTbS1_5Lroh",
        "colab": {
          "base_uri": "https://localhost:8080/",
          "height": 480
        },
        "outputId": "e67ff0a3-14b2-46b3-8c92-a335feba2633"
      },
      "source": [
        "momentums = [i*0.1 for i in range(1,10)]\n",
        "acc = []\n",
        "fig = plt.figure()\n",
        "loss = nn.CrossEntropyLoss()\n",
        "optimiser = 'SGD'\n",
        "plt.title(' hyperparameter tuning for optimiser: ' + optimiser)\n",
        "plt.ylabel('Accuracy')\n",
        "plt.xlabel('Momentum')\n",
        "nepoch = 40\n",
        "lr = 0.01\n",
        "\n",
        "for momentum in momentums:\n",
        "\n",
        "  torch.manual_seed(69)\n",
        "  CNN = CNN_Model.ConvNet()\n",
        "  conv_LSTM = LRCN(CNN)\n",
        "  trained_net,avg_loss, avg_acc, test_loss, test_acc = train_model(data_train, data_test, conv_LSTM, loss, nepoch=nepoch, momentum = momentum ,batch_size = 10,lr = lr, use_cuda = True, print_output = False, optimiser = 'SGD')\n",
        "  X_test, y_test = data_test.get_data()\n",
        "  trained_net = trained_net.to(torch.device('cpu'))\n",
        "  pred = trained_net(X_test)\n",
        "  accur = CNN_Model.accuracy(pred,y_test)\n",
        "  acc.append(accur)\n",
        "  \n",
        "plt.plot(momentums,acc)"
      ],
      "execution_count": null,
      "outputs": [
        {
          "output_type": "stream",
          "text": [
            "final loss: 0.7707245945930481\n",
            "final loss: 0.7741596698760986\n",
            "final loss: 0.7580082416534424\n",
            "final loss: 0.8585305213928223\n",
            "final loss: 1.0053373575210571\n",
            "final loss: 0.8399456143379211\n",
            "final loss: 0.9833918213844299\n",
            "final loss: 0.9600781798362732\n"
          ],
          "name": "stdout"
        },
        {
          "output_type": "stream",
          "text": [
            "No handles with labels found to put in legend.\n"
          ],
          "name": "stderr"
        },
        {
          "output_type": "stream",
          "text": [
            "final loss: 1.490085244178772\n"
          ],
          "name": "stdout"
        },
        {
          "output_type": "execute_result",
          "data": {
            "text/plain": [
              "<matplotlib.legend.Legend at 0x7f011c4abbd0>"
            ]
          },
          "metadata": {
            "tags": []
          },
          "execution_count": 33
        },
        {
          "output_type": "display_data",
          "data": {
            "image/png": "[encoded data removed]",
            "text/plain": [
              "<Figure size 432x288 with 1 Axes>"
            ]
          },
          "metadata": {
            "tags": [],
            "needs_background": "light"
          }
        }
      ]
    },
    {
      "cell_type": "markdown",
      "metadata": {
        "id": "-98ErEZlO37g"
      },
      "source": [
        "# Final train/test graph"
      ]
    },
    {
      "cell_type": "code",
      "metadata": {
        "id": "oQ4J2-lORKxI",
        "colab": {
          "base_uri": "https://localhost:8080/"
        },
        "outputId": "641d5880-72d3-413e-ceed-9e37d544f8e9"
      },
      "source": [
        "# hyperparameters:\n",
        "nepoch = 50\n",
        "lr = 0.01\n",
        "momentum = 0.2\n",
        "optimiser = 'SGD'\n",
        "loss = nn.CrossEntropyLoss()\n",
        "\n",
        "torch.manual_seed(69)\n",
        "CNN = CNN_Model.ConvNet()\n",
        "conv_LSTM = LRCN(CNN)\n",
        "trained_net,avg_loss, avg_acc, test_loss, test_acc = train_model(data_train, data_test, conv_LSTM, loss, nepoch=nepoch, momentum = momentum ,batch_size = 10,lr = lr, use_cuda = True, print_output = False, optimiser = optimiser)"
      ],
      "execution_count": 16,
      "outputs": [
        {
          "output_type": "stream",
          "text": [
            "final loss: 0.7348254323005676\n"
          ],
          "name": "stdout"
        }
      ]
    },
    {
      "cell_type": "code",
      "metadata": {
        "id": "_ufmGOhGIVDB"
      },
      "source": [
        ""
      ],
      "execution_count": null,
      "outputs": []
    },
    {
      "cell_type": "code",
      "metadata": {
        "id": "nUgIgSwjIXan",
        "outputId": "3294c691-775c-4216-86e9-bf026a073c93",
        "colab": {
          "base_uri": "https://localhost:8080/"
        }
      },
      "source": [
        "from google.colab import drive\n",
        "drive.mount('/content/drive')"
      ],
      "execution_count": 19,
      "outputs": [
        {
          "output_type": "stream",
          "text": [
            "Mounted at /content/drive\n"
          ],
          "name": "stdout"
        }
      ]
    },
    {
      "cell_type": "code",
      "metadata": {
        "id": "gaxhDGIhIKD7"
      },
      "source": [
        "final_array = np.array([avg_loss,test_loss,avg_acc,test_acc])"
      ],
      "execution_count": 18,
      "outputs": []
    },
    {
      "cell_type": "code",
      "metadata": {
        "id": "bWRyDXwMI5wW",
        "outputId": "46f8c2e4-9113-4340-ae78-c31d743236c5",
        "colab": {
          "base_uri": "https://localhost:8080/"
        }
      },
      "source": [
        "final_array.shape"
      ],
      "execution_count": 20,
      "outputs": [
        {
          "output_type": "execute_result",
          "data": {
            "text/plain": [
              "(4, 50)"
            ]
          },
          "metadata": {
            "tags": []
          },
          "execution_count": 20
        }
      ]
    },
    {
      "cell_type": "code",
      "metadata": {
        "id": "sbydV1M5ISfB"
      },
      "source": [
        "np.save('/content/drive/MyDrive/STAT3007_project/CNN_Models_Results/CNN_LSTM_Clean.npy',final_array)"
      ],
      "execution_count": 21,
      "outputs": []
    },
    {
      "cell_type": "code",
      "metadata": {
        "id": "u01HuTsgRexX",
        "colab": {
          "base_uri": "https://localhost:8080/",
          "height": 590
        },
        "outputId": "35b4b92f-3738-4173-946c-c62d0d07cce3"
      },
      "source": [
        "epoches = [i for i in range(nepoch)]\n",
        "\n",
        "fig = plt.figure()\n",
        "plt.plot(epoches,test_loss, label = 'test')\n",
        "plt.plot(epoches,avg_loss, label = 'train', color = 'r')\n",
        "plt.title('Loss over epoches')\n",
        "plt.xlabel('Epoches')\n",
        "plt.ylabel('Loss')\n",
        "plt.legend()\n",
        "\n",
        "fig = plt.figure()\n",
        "plt.plot(epoches,test_acc, label = 'test')\n",
        "plt.plot(epoches,avg_acc, label = 'train', color = 'r')\n",
        "plt.title('Accuracy over epoches')\n",
        "plt.xlabel('Epoches')\n",
        "plt.ylabel('Accuracy')\n",
        "plt.legend()\n"
      ],
      "execution_count": 17,
      "outputs": [
        {
          "output_type": "execute_result",
          "data": {
            "text/plain": [
              "<matplotlib.legend.Legend at 0x7fe97874e8d0>"
            ]
          },
          "metadata": {
            "tags": []
          },
          "execution_count": 17
        },
        {
          "output_type": "display_data",
          "data": {
            "image/png": "[encoded data removed]",
            "text/plain": [
              "<Figure size 432x288 with 1 Axes>"
            ]
          },
          "metadata": {
            "tags": [],
            "needs_background": "light"
          }
        },
        {
          "output_type": "display_data",
          "data": {
            "image/png": "[encoded data removed]",
            "text/plain": [
              "<Figure size 432x288 with 1 Axes>"
            ]
          },
          "metadata": {
            "tags": [],
            "needs_background": "light"
          }
        }
      ]
    },
    {
      "cell_type": "markdown",
      "metadata": {
        "id": "Q606pmDGIFWd"
      },
      "source": [
        "# NOISY"
      ]
    },
    {
      "cell_type": "code",
      "metadata": {
        "id": "CihBxaOVRpLC"
      },
      "source": [
        "#Import all the noisy data\n",
        "noisy_data_train = np.load('/content/drive/MyDrive/STAT3007_project/train_test_split_snr40/noisy_train_snr40.npy')\n",
        "noisy_data_test = np.load('/content/drive/MyDrive/STAT3007_project/train_test_split_snr40/noisy_test_snr40.npy')\n",
        "noisy_targets_train = np.load('/content/drive/MyDrive/STAT3007_project/train_test_split_snr40/target_train_snr40.npy')\n",
        "noisy_targets_test = np.load('/content/drive/MyDrive/STAT3007_project/train_test_split_snr40/target_test_snr40.npy')\n",
        "\n",
        "noisy_data_train = noisy_data_train.reshape(noisy_data_train.shape[0],1,noisy_data_train.shape[1],noisy_data_train.shape[2])\n",
        "noisy_data_test = noisy_data_test.reshape(noisy_data_test.shape[0],1,noisy_data_test.shape[1],noisy_data_test.shape[2])\n",
        "\n",
        "noisy_data_train = torch.tensor(noisy_data_train)\n",
        "noisy_data_test = torch.tensor(noisy_data_test)\n",
        "\n",
        "#noisy_data = torch.tensor(noisy_data).reshape(noisy_data.shape[0],1,noisy_data.shape[1],noisy_data.shape[2])\n",
        "noisy_targets_train = torch.tensor(noisy_targets_train)\n",
        "noisy_targets_test = torch.tensor(noisy_targets_test)"
      ],
      "execution_count": 22,
      "outputs": []
    },
    {
      "cell_type": "code",
      "metadata": {
        "id": "g93XLuMwKKR-",
        "outputId": "19807835-ecc3-4196-a39d-5a5102c72e67",
        "colab": {
          "base_uri": "https://localhost:8080/"
        }
      },
      "source": [
        "noisy_data_train.shape"
      ],
      "execution_count": 25,
      "outputs": [
        {
          "output_type": "execute_result",
          "data": {
            "text/plain": [
              "torch.Size([6880, 1, 128, 63])"
            ]
          },
          "metadata": {
            "tags": []
          },
          "execution_count": 25
        }
      ]
    },
    {
      "cell_type": "code",
      "metadata": {
        "id": "mwSaCX20KZ13"
      },
      "source": [
        "noisy_train = data_loading.DatasetWrapper(noisy_data_train,noisy_targets_train)\n",
        "noisy_test = data_loading.DatasetWrapper(noisy_data_test,noisy_targets_test)"
      ],
      "execution_count": 27,
      "outputs": []
    },
    {
      "cell_type": "code",
      "metadata": {
        "id": "37pQQr6uKuKX",
        "outputId": "b8c13f94-4b97-4e10-b105-dff0142cdea0",
        "colab": {
          "base_uri": "https://localhost:8080/"
        }
      },
      "source": [
        "# hyperparameters:\n",
        "nepoch = 50\n",
        "lr = 0.01\n",
        "momentum = 0.2\n",
        "optimiser = 'SGD'\n",
        "loss = nn.CrossEntropyLoss()\n",
        "\n",
        "torch.manual_seed(69)\n",
        "CNN = CNN_Model.ConvNet()\n",
        "conv_LSTM = LRCN(CNN)\n",
        "trained_net,avg_loss, avg_acc, test_loss, test_acc = train_model(noisy_train, noisy_test, conv_LSTM, loss, nepoch=nepoch, momentum = momentum ,batch_size = 10,lr = lr, use_cuda = True, print_output = False, optimiser = optimiser)"
      ],
      "execution_count": 28,
      "outputs": [
        {
          "output_type": "stream",
          "text": [
            "final loss: 2.4661993980407715\n"
          ],
          "name": "stdout"
        }
      ]
    },
    {
      "cell_type": "code",
      "metadata": {
        "id": "Ku5uIia_MPFk"
      },
      "source": [
        "final_array = np.array([avg_loss,test_loss,avg_acc,test_acc])\n",
        "np.save('/content/drive/MyDrive/STAT3007_project/CNN_Models_Results/CNN_LSTM_Noisy.npy',final_array)"
      ],
      "execution_count": 30,
      "outputs": []
    },
    {
      "cell_type": "code",
      "metadata": {
        "id": "NTVkWcydK5Xp",
        "outputId": "6bb022ec-74a8-45a4-a111-55c4035bcac8",
        "colab": {
          "base_uri": "https://localhost:8080/",
          "height": 590
        }
      },
      "source": [
        "epoches = [i for i in range(nepoch)]\n",
        "\n",
        "fig = plt.figure()\n",
        "plt.plot(epoches,test_loss, label = 'test')\n",
        "plt.plot(epoches,avg_loss, label = 'train', color = 'r')\n",
        "plt.title('Loss over epoches')\n",
        "plt.xlabel('Epoches')\n",
        "plt.ylabel('Loss')\n",
        "plt.legend()\n",
        "\n",
        "fig = plt.figure()\n",
        "plt.plot(epoches,test_acc, label = 'test')\n",
        "plt.plot(epoches,avg_acc, label = 'train', color = 'r')\n",
        "plt.title('Accuracy over epoches')\n",
        "plt.xlabel('Epoches')\n",
        "plt.ylabel('Accuracy')\n",
        "plt.legend()"
      ],
      "execution_count": 29,
      "outputs": [
        {
          "output_type": "execute_result",
          "data": {
            "text/plain": [
              "<matplotlib.legend.Legend at 0x7fe90b80db50>"
            ]
          },
          "metadata": {
            "tags": []
          },
          "execution_count": 29
        },
        {
          "output_type": "display_data",
          "data": {
            "image/png": "[encoded data removed]",
            "text/plain": [
              "<Figure size 432x288 with 1 Axes>"
            ]
          },
          "metadata": {
            "tags": [],
            "needs_background": "light"
          }
        },
        {
          "output_type": "display_data",
          "data": {
            "image/png": "[encoded data removed]",
            "text/plain": [
              "<Figure size 432x288 with 1 Axes>"
            ]
          },
          "metadata": {
            "tags": [],
            "needs_background": "light"
          }
        }
      ]
    },
    {
      "cell_type": "code",
      "metadata": {
        "id": "KogSTew9MIfl"
      },
      "source": [
        ""
      ],
      "execution_count": null,
      "outputs": []
    }
  ]
}