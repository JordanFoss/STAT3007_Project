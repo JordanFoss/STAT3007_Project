{
  "nbformat": 4,
  "nbformat_minor": 0,
  "metadata": {
    "colab": {
      "name": "Conv_LSTM.ipynb",
      "provenance": [],
      "toc_visible": true,
      "authorship_tag": "ABX9TyPYyT52wum3UWzX3cx5hysE",
      "include_colab_link": true
    },
    "kernelspec": {
      "name": "python3",
      "display_name": "Python 3"
    },
    "language_info": {
      "name": "python"
    },
    "accelerator": "GPU"
  },
  "cells": [
    {
      "cell_type": "markdown",
      "metadata": {
        "id": "view-in-github",
        "colab_type": "text"
      },
      "source": [
        "<a href=\"https://colab.research.google.com/github/JordanFoss/STAT3007_Project/blob/main/Conv_LSTM.ipynb\" target=\"_parent\"><img src=\"https://colab.research.google.com/assets/colab-badge.svg\" alt=\"Open In Colab\"/></a>"
      ]
    },
    {
      "cell_type": "code",
      "metadata": {
        "colab": {
          "base_uri": "https://localhost:8080/"
        },
        "id": "QZWQb0ebc-fP",
        "outputId": "da043f72-aeea-4edd-d9a8-938f178a6275"
      },
      "source": [
        "!git clone https://github.com/JordanFoss/STAT3007_Project.git\n",
        "%cd STAT3007_Project/"
      ],
      "execution_count": 45,
      "outputs": [
        {
          "output_type": "stream",
          "text": [
            "Cloning into 'STAT3007_Project'...\n",
            "remote: Enumerating objects: 4042, done.\u001b[K\n",
            "remote: Counting objects: 100% (320/320), done.\u001b[K\n",
            "remote: Compressing objects: 100% (260/260), done.\u001b[K\n",
            "remote: Total 4042 (delta 143), reused 197 (delta 58), pack-reused 3722\u001b[K\n",
            "Receiving objects: 100% (4042/4042), 682.53 MiB | 29.80 MiB/s, done.\n",
            "Resolving deltas: 100% (728/728), done.\n",
            "Checking out files: 100% (2861/2861), done.\n",
            "/content/STAT3007_Project/STAT3007_Project\n"
          ],
          "name": "stdout"
        }
      ]
    },
    {
      "cell_type": "code",
      "metadata": {
        "id": "dEw6Ckz2dADM"
      },
      "source": [
        "import torch\n",
        "import torch.nn as nn\n",
        "import matplotlib.pyplot as plt\n",
        "from torchvision.transforms import ToTensor\n",
        "import scipy\n",
        "import numpy as np\n",
        "import librosa\n",
        "import torch.optim as optim\n",
        "from torch.utils.data import Dataset, DataLoader, random_split\n",
        "from torch.autograd import Variable\n",
        "import pandas as pd\n",
        "import glob\n",
        "import os\n",
        "from librosa import display\n",
        "from torchsummary import summary\n",
        "\n",
        "from IPython.display import Audio"
      ],
      "execution_count": 46,
      "outputs": []
    },
    {
      "cell_type": "code",
      "metadata": {
        "colab": {
          "base_uri": "https://localhost:8080/"
        },
        "id": "D0LO_f7TdtXz",
        "outputId": "10def3c7-c7af-4d84-faa0-100e2ea3ce1a"
      },
      "source": [
        "!pip install colorednoise as cn"
      ],
      "execution_count": 47,
      "outputs": [
        {
          "output_type": "stream",
          "text": [
            "Requirement already satisfied: colorednoise in /usr/local/lib/python3.7/dist-packages (1.1.1)\n",
            "Requirement already satisfied: as in /usr/local/lib/python3.7/dist-packages (0.1)\n",
            "Requirement already satisfied: cn in /usr/local/lib/python3.7/dist-packages (0.0.0.0)\n",
            "Requirement already satisfied: numpy in /usr/local/lib/python3.7/dist-packages (from colorednoise) (1.19.5)\n"
          ],
          "name": "stdout"
        }
      ]
    },
    {
      "cell_type": "code",
      "metadata": {
        "id": "jXPrJdoQdBoF"
      },
      "source": [
        "import pre_process\n",
        "import data_loading\n",
        "import CNN_Model\n",
        "from data_loading import *"
      ],
      "execution_count": 48,
      "outputs": []
    },
    {
      "cell_type": "code",
      "metadata": {
        "id": "0nVTA7Undqxc"
      },
      "source": [
        "X,y = data_loading.load_samples(os.getcwd())"
      ],
      "execution_count": 49,
      "outputs": []
    },
    {
      "cell_type": "code",
      "metadata": {
        "id": "QT0Z8Azqmk5w"
      },
      "source": [
        "X = torch.tensor(X)\n",
        "X = X.reshape(X.shape[0],1,X.shape[1],X.shape[2])\n",
        "y = torch.tensor(y)"
      ],
      "execution_count": 50,
      "outputs": []
    },
    {
      "cell_type": "code",
      "metadata": {
        "colab": {
          "base_uri": "https://localhost:8080/"
        },
        "id": "P_aDV5To1Zrl",
        "outputId": "3daa269c-e11e-44df-af6c-1266dbc13c63"
      },
      "source": [
        "X.shape"
      ],
      "execution_count": 51,
      "outputs": [
        {
          "output_type": "execute_result",
          "data": {
            "text/plain": [
              "torch.Size([480, 1, 128, 63])"
            ]
          },
          "metadata": {
            "tags": []
          },
          "execution_count": 51
        }
      ]
    },
    {
      "cell_type": "code",
      "metadata": {
        "id": "iv8lw7Y2mixF"
      },
      "source": [
        "# RNN combined with CNN\n",
        "class LRCN(nn.Module):\n",
        "    def __init__(self, CNN, shape = (24,32,3)):\n",
        "        super(LRCN, self).__init__()\n",
        "\n",
        "        self.cnn = CNN\n",
        "        self.shape = shape\n",
        "\n",
        "        channel, freq, times = shape\n",
        "        self.lstm_layers = nn.LSTM(freq*channel*times,256,num_layers = 2, bidirectional = True)\n",
        "        self.linear = nn.Sequential(nn.Linear(256*2, 5))\n",
        "        self.flatten = nn.Flatten()\n",
        "\n",
        "    def forward(self, x, step_size = 21, use_cuda = False):\n",
        "\n",
        "      if use_cuda:\n",
        "        h_t = torch.zeros(4,x.shape[0] ,256, dtype=torch.float).to(x.device)\n",
        "        c_t = torch.zeros(4,x.shape[0], 256, dtype=torch.float).to(x.device)\n",
        "\n",
        "      else:\n",
        "        h_t = torch.zeros(4,x.shape[0], 256, dtype=torch.float)\n",
        "        c_t = torch.zeros(4,x.shape[0], 256, dtype=torch.float)\n",
        "      \n",
        "      look_ahead_time = 21\n",
        "      for current_time in range(0,x.shape[-1], step_size):\n",
        "\n",
        "        x_t = x[:,:,:,current_time:current_time+look_ahead_time]\n",
        "        conv_x = self.cnn(x_t)\n",
        "\n",
        "        conv_x_flat =  self.flatten(conv_x)\n",
        "\n",
        "        conv_x_flat = conv_x_flat.reshape(1,conv_x_flat.shape[0],conv_x_flat.shape[1])\n",
        "\n",
        "        output, (h_t, c_t) = self.lstm_layers(conv_x_flat, (h_t, c_t))\n",
        "\n",
        "      decision_vec = self.linear(output[0])\n",
        "      return decision_vec"
      ],
      "execution_count": 52,
      "outputs": []
    },
    {
      "cell_type": "code",
      "metadata": {
        "id": "NmwjVjoKvdR6"
      },
      "source": [
        "def train_model(data_train, \n",
        "                data_test, \n",
        "                net, loss, \n",
        "                nepoch , \n",
        "                lr = 0.01, \n",
        "                batch_size = -1, \n",
        "                momentum = 0,\n",
        "                use_cuda = False, \n",
        "                print_output = True, \n",
        "                optimiser = 'SGD'):\n",
        "\n",
        "  # setting up arrays for recording\n",
        "  test_acc = []\n",
        "  avg_acc = []\n",
        "\n",
        "  test_loss = []\n",
        "  avg_loss = []\n",
        "  # appropriate data type for CPU or GPU\n",
        "  device = None\n",
        "  if use_cuda and torch.cuda.is_available():\n",
        "    dtype = torch.cuda.FloatTensor\n",
        "    device = torch.device(\"cuda\")\n",
        "    net = net.to(device)\n",
        "  else:\n",
        "    dtype = torch.FloatTensor\n",
        "\n",
        "  if optimiser == 'SGD':\n",
        "    optimizer = optim.SGD(net.parameters(), lr = lr, momentum = momentum)\n",
        "  else:\n",
        "    optimizer = optim.Adam(net.parameters(), lr = lr, momentum = momentum)\n",
        "  data_train = data_train.change_type(dtype)\n",
        "  data_test = data_test.change_type(dtype)\n",
        "\n",
        "  X_test,y_test = data_test.get_data()\n",
        "\n",
        "  y_test = y_test.type(torch.LongTensor)\n",
        "  if device != None:\n",
        "    y_test = y_test.type(torch.cuda.LongTensor)\n",
        "\n",
        "  data_loader = DataLoader(data_train, batch_size = batch_size, shuffle = True)\n",
        "\n",
        "  for epoch in range(nepoch):\n",
        "    batch_acc = []\n",
        "    batch_loss = []\n",
        "    for X_batch, y_batch in data_loader:\n",
        "      \n",
        "\n",
        "      y_batch = y_batch.type(torch.LongTensor)\n",
        "      if use_cuda and device != None:\n",
        "        X_batch = X_batch.to(device)\n",
        "        y_batch = y_batch.to(device)\n",
        "        y_batch = y_batch.type(torch.cuda.LongTensor)\n",
        "\n",
        "        \n",
        "\n",
        "      optimizer.zero_grad()\n",
        "\n",
        "\n",
        "      pred = net(X_batch, use_cuda = use_cuda)\n",
        "      Rn = loss(pred, y_batch)\n",
        "      accur = CNN_Model.accuracy(pred,y_batch)\n",
        "\n",
        "      batch_acc.append(accur)\n",
        "      batch_loss.append(Rn.to(torch.device('cpu')).detach().numpy())\n",
        "\n",
        "      Rn.backward()\n",
        "      optimizer.step()\n",
        "\n",
        "\n",
        "    avg_batch_loss = np.mean(batch_loss)\n",
        "    avg_batch_acc = np.mean(batch_acc)\n",
        "    avg_acc.append(avg_batch_acc)\n",
        "    avg_loss.append(avg_batch_loss)\n",
        "\n",
        "    pred = net(X_test, use_cuda = use_cuda)\n",
        "    Rn = loss(pred, y_test)\n",
        "    accur = CNN_Model.accuracy(pred,y_test)\n",
        "    test_acc.append(accur)\n",
        "    test_loss.append(Rn.to(torch.device('cpu')).detach().numpy())\n",
        "\n",
        "\n",
        "    if print_output:\n",
        "      print('epoch:', epoch)\n",
        "      print('loss:',Rn.item())\n",
        "      print('------------')\n",
        "    \n",
        "\n",
        "  print('final loss:', Rn.item())\n",
        "\n",
        "  return net, avg_loss, avg_acc, test_loss, test_acc"
      ],
      "execution_count": 53,
      "outputs": []
    },
    {
      "cell_type": "code",
      "metadata": {
        "id": "Jp8y9-qj-yu1"
      },
      "source": [
        "data_sets = data_loading.load_sets(X,y,train_ratio=[0.8], seed = [10])\n",
        "data_train, data_test = data_sets[0]"
      ],
      "execution_count": 54,
      "outputs": []
    },
    {
      "cell_type": "code",
      "metadata": {
        "id": "FEy1yLMGwYkj"
      },
      "source": [
        "loss = nn.CrossEntropyLoss()"
      ],
      "execution_count": 55,
      "outputs": []
    },
    {
      "cell_type": "markdown",
      "metadata": {
        "id": "ILuHvn8vFlQ6"
      },
      "source": [
        "# Hyperparameter tuning\n",
        "* random seed = 69\n",
        "* Optimiser: SGD\n",
        "* lr: 0.01\n",
        "* epoch number: 40 \n",
        "* momentum: 0.2"
      ]
    },
    {
      "cell_type": "code",
      "metadata": {
        "id": "GiLFUPCkYrVZ",
        "outputId": "be906d8c-e851-4f3a-8423-e79b8f04ace2",
        "colab": {
          "base_uri": "https://localhost:8080/",
          "height": 682
        }
      },
      "source": [
        "# hyperparameter tuning for optimiser, lr and nepoch\n",
        "epoch = [i for i in range(10, 51,10)]\n",
        "fig = plt.figure()\n",
        "loss = nn.CrossEntropyLoss()\n",
        "optimiser = 'Adam'\n",
        "plt.title(' hyperparamter tuning for optimiser: ' + optimiser)\n",
        "plt.ylabel('Accuracy')\n",
        "plt.xlabel('Learning Rate')\n",
        "\n",
        "for nepoch in epoch:\n",
        "\n",
        "  lrs = [i * 0.001 for i in range(1, 11)]\n",
        "  acc = []\n",
        "  for lr in lrs:\n",
        "    torch.manual_seed(69)\n",
        "    CNN = CNN_Model.ConvNet()\n",
        "    conv_LSTM = LRCN(CNN)\n",
        "    trained_net = train_model(data_train, data_test, conv_LSTM, loss, nepoch=nepoch , batch_size = 10,lr = lr, use_cuda = True, print_output = False, optimiser = 'SGD')\n",
        "    X_test, y_test = data_test.get_data()\n",
        "    trained_net = trained_net.to(torch.device('cpu'))\n",
        "    pred = trained_net(X_test)\n",
        "    accur = CNN_Model.accuracy(pred,y_test)\n",
        "    acc.append(accur)\n",
        "  \n",
        "  plt.plot(lrs,acc, label = 'epoch = ' + str(nepoch))\n",
        "\n",
        "plt.legend()"
      ],
      "execution_count": 56,
      "outputs": [
        {
          "output_type": "error",
          "ename": "KeyboardInterrupt",
          "evalue": "ignored",
          "traceback": [
            "\u001b[0;31m---------------------------------------------------------------------------\u001b[0m",
            "\u001b[0;31mKeyboardInterrupt\u001b[0m                         Traceback (most recent call last)",
            "\u001b[0;32m<ipython-input-56-18ccd1893733>\u001b[0m in \u001b[0;36m<module>\u001b[0;34m()\u001b[0m\n\u001b[1;32m     16\u001b[0m     \u001b[0mCNN\u001b[0m \u001b[0;34m=\u001b[0m \u001b[0mCNN_Model\u001b[0m\u001b[0;34m.\u001b[0m\u001b[0mConvNet\u001b[0m\u001b[0;34m(\u001b[0m\u001b[0;34m)\u001b[0m\u001b[0;34m\u001b[0m\u001b[0;34m\u001b[0m\u001b[0m\n\u001b[1;32m     17\u001b[0m     \u001b[0mconv_LSTM\u001b[0m \u001b[0;34m=\u001b[0m \u001b[0mLRCN\u001b[0m\u001b[0;34m(\u001b[0m\u001b[0mCNN\u001b[0m\u001b[0;34m)\u001b[0m\u001b[0;34m\u001b[0m\u001b[0;34m\u001b[0m\u001b[0m\n\u001b[0;32m---> 18\u001b[0;31m     \u001b[0mtrained_net\u001b[0m \u001b[0;34m=\u001b[0m \u001b[0mtrain_model\u001b[0m\u001b[0;34m(\u001b[0m\u001b[0mdata_train\u001b[0m\u001b[0;34m,\u001b[0m \u001b[0mdata_test\u001b[0m\u001b[0;34m,\u001b[0m \u001b[0mconv_LSTM\u001b[0m\u001b[0;34m,\u001b[0m \u001b[0mloss\u001b[0m\u001b[0;34m,\u001b[0m \u001b[0mnepoch\u001b[0m\u001b[0;34m=\u001b[0m\u001b[0mnepoch\u001b[0m \u001b[0;34m,\u001b[0m \u001b[0mbatch_size\u001b[0m \u001b[0;34m=\u001b[0m \u001b[0;36m10\u001b[0m\u001b[0;34m,\u001b[0m\u001b[0mlr\u001b[0m \u001b[0;34m=\u001b[0m \u001b[0mlr\u001b[0m\u001b[0;34m,\u001b[0m \u001b[0muse_cuda\u001b[0m \u001b[0;34m=\u001b[0m \u001b[0;32mTrue\u001b[0m\u001b[0;34m,\u001b[0m \u001b[0mprint_output\u001b[0m \u001b[0;34m=\u001b[0m \u001b[0;32mFalse\u001b[0m\u001b[0;34m,\u001b[0m \u001b[0moptimiser\u001b[0m \u001b[0;34m=\u001b[0m \u001b[0;34m'SGD'\u001b[0m\u001b[0;34m)\u001b[0m\u001b[0;34m\u001b[0m\u001b[0;34m\u001b[0m\u001b[0m\n\u001b[0m\u001b[1;32m     19\u001b[0m     \u001b[0mX_test\u001b[0m\u001b[0;34m,\u001b[0m \u001b[0my_test\u001b[0m \u001b[0;34m=\u001b[0m \u001b[0mdata_test\u001b[0m\u001b[0;34m.\u001b[0m\u001b[0mget_data\u001b[0m\u001b[0;34m(\u001b[0m\u001b[0;34m)\u001b[0m\u001b[0;34m\u001b[0m\u001b[0;34m\u001b[0m\u001b[0m\n\u001b[1;32m     20\u001b[0m     \u001b[0mtrained_net\u001b[0m \u001b[0;34m=\u001b[0m \u001b[0mtrained_net\u001b[0m\u001b[0;34m.\u001b[0m\u001b[0mto\u001b[0m\u001b[0;34m(\u001b[0m\u001b[0mtorch\u001b[0m\u001b[0;34m.\u001b[0m\u001b[0mdevice\u001b[0m\u001b[0;34m(\u001b[0m\u001b[0;34m'cpu'\u001b[0m\u001b[0;34m)\u001b[0m\u001b[0;34m)\u001b[0m\u001b[0;34m\u001b[0m\u001b[0;34m\u001b[0m\u001b[0m\n",
            "\u001b[0;32m<ipython-input-53-f0c3d9669205>\u001b[0m in \u001b[0;36mtrain_model\u001b[0;34m(data_train, data_test, net, loss, nepoch, lr, batch_size, momentum, use_cuda, print_output, optimiser)\u001b[0m\n\u001b[1;32m     64\u001b[0m       \u001b[0mbatch_loss\u001b[0m\u001b[0;34m.\u001b[0m\u001b[0mappend\u001b[0m\u001b[0;34m(\u001b[0m\u001b[0mRn\u001b[0m\u001b[0;34m.\u001b[0m\u001b[0mto\u001b[0m\u001b[0;34m(\u001b[0m\u001b[0mtorch\u001b[0m\u001b[0;34m.\u001b[0m\u001b[0mdevice\u001b[0m\u001b[0;34m(\u001b[0m\u001b[0;34m'cpu'\u001b[0m\u001b[0;34m)\u001b[0m\u001b[0;34m)\u001b[0m\u001b[0;34m.\u001b[0m\u001b[0mdetach\u001b[0m\u001b[0;34m(\u001b[0m\u001b[0;34m)\u001b[0m\u001b[0;34m.\u001b[0m\u001b[0mnumpy\u001b[0m\u001b[0;34m(\u001b[0m\u001b[0;34m)\u001b[0m\u001b[0;34m)\u001b[0m\u001b[0;34m\u001b[0m\u001b[0;34m\u001b[0m\u001b[0m\n\u001b[1;32m     65\u001b[0m \u001b[0;34m\u001b[0m\u001b[0m\n\u001b[0;32m---> 66\u001b[0;31m       \u001b[0mRn\u001b[0m\u001b[0;34m.\u001b[0m\u001b[0mbackward\u001b[0m\u001b[0;34m(\u001b[0m\u001b[0;34m)\u001b[0m\u001b[0;34m\u001b[0m\u001b[0;34m\u001b[0m\u001b[0m\n\u001b[0m\u001b[1;32m     67\u001b[0m       \u001b[0moptimizer\u001b[0m\u001b[0;34m.\u001b[0m\u001b[0mstep\u001b[0m\u001b[0;34m(\u001b[0m\u001b[0;34m)\u001b[0m\u001b[0;34m\u001b[0m\u001b[0;34m\u001b[0m\u001b[0m\n\u001b[1;32m     68\u001b[0m \u001b[0;34m\u001b[0m\u001b[0m\n",
            "\u001b[0;32m/usr/local/lib/python3.7/dist-packages/torch/tensor.py\u001b[0m in \u001b[0;36mbackward\u001b[0;34m(self, gradient, retain_graph, create_graph, inputs)\u001b[0m\n\u001b[1;32m    243\u001b[0m                 \u001b[0mcreate_graph\u001b[0m\u001b[0;34m=\u001b[0m\u001b[0mcreate_graph\u001b[0m\u001b[0;34m,\u001b[0m\u001b[0;34m\u001b[0m\u001b[0;34m\u001b[0m\u001b[0m\n\u001b[1;32m    244\u001b[0m                 inputs=inputs)\n\u001b[0;32m--> 245\u001b[0;31m         \u001b[0mtorch\u001b[0m\u001b[0;34m.\u001b[0m\u001b[0mautograd\u001b[0m\u001b[0;34m.\u001b[0m\u001b[0mbackward\u001b[0m\u001b[0;34m(\u001b[0m\u001b[0mself\u001b[0m\u001b[0;34m,\u001b[0m \u001b[0mgradient\u001b[0m\u001b[0;34m,\u001b[0m \u001b[0mretain_graph\u001b[0m\u001b[0;34m,\u001b[0m \u001b[0mcreate_graph\u001b[0m\u001b[0;34m,\u001b[0m \u001b[0minputs\u001b[0m\u001b[0;34m=\u001b[0m\u001b[0minputs\u001b[0m\u001b[0;34m)\u001b[0m\u001b[0;34m\u001b[0m\u001b[0;34m\u001b[0m\u001b[0m\n\u001b[0m\u001b[1;32m    246\u001b[0m \u001b[0;34m\u001b[0m\u001b[0m\n\u001b[1;32m    247\u001b[0m     \u001b[0;32mdef\u001b[0m \u001b[0mregister_hook\u001b[0m\u001b[0;34m(\u001b[0m\u001b[0mself\u001b[0m\u001b[0;34m,\u001b[0m \u001b[0mhook\u001b[0m\u001b[0;34m)\u001b[0m\u001b[0;34m:\u001b[0m\u001b[0;34m\u001b[0m\u001b[0;34m\u001b[0m\u001b[0m\n",
            "\u001b[0;32m/usr/local/lib/python3.7/dist-packages/torch/autograd/__init__.py\u001b[0m in \u001b[0;36mbackward\u001b[0;34m(tensors, grad_tensors, retain_graph, create_graph, grad_variables, inputs)\u001b[0m\n\u001b[1;32m    145\u001b[0m     Variable._execution_engine.run_backward(\n\u001b[1;32m    146\u001b[0m         \u001b[0mtensors\u001b[0m\u001b[0;34m,\u001b[0m \u001b[0mgrad_tensors_\u001b[0m\u001b[0;34m,\u001b[0m \u001b[0mretain_graph\u001b[0m\u001b[0;34m,\u001b[0m \u001b[0mcreate_graph\u001b[0m\u001b[0;34m,\u001b[0m \u001b[0minputs\u001b[0m\u001b[0;34m,\u001b[0m\u001b[0;34m\u001b[0m\u001b[0;34m\u001b[0m\u001b[0m\n\u001b[0;32m--> 147\u001b[0;31m         allow_unreachable=True, accumulate_grad=True)  # allow_unreachable flag\n\u001b[0m\u001b[1;32m    148\u001b[0m \u001b[0;34m\u001b[0m\u001b[0m\n\u001b[1;32m    149\u001b[0m \u001b[0;34m\u001b[0m\u001b[0m\n",
            "\u001b[0;31mKeyboardInterrupt\u001b[0m: "
          ]
        },
        {
          "output_type": "display_data",
          "data": {
            "image/png": "[encoded data removed]",
            "text/plain": [
              "<Figure size 432x288 with 1 Axes>"
            ]
          },
          "metadata": {
            "tags": [],
            "needs_background": "light"
          }
        }
      ]
    },
    {
      "cell_type": "code",
      "metadata": {
        "id": "oTTbS1_5Lroh",
        "colab": {
          "base_uri": "https://localhost:8080/",
          "height": 480
        },
        "outputId": "e67ff0a3-14b2-46b3-8c92-a335feba2633"
      },
      "source": [
        "momentums = [i*0.1 for i in range(1,10)]\n",
        "acc = []\n",
        "fig = plt.figure()\n",
        "loss = nn.CrossEntropyLoss()\n",
        "optimiser = 'SGD'\n",
        "plt.title(' hyperparameter tuning for optimiser: ' + optimiser)\n",
        "plt.ylabel('Accuracy')\n",
        "plt.xlabel('Momentum')\n",
        "nepoch = 40\n",
        "lr = 0.01\n",
        "\n",
        "for momentum in momentums:\n",
        "\n",
        "  torch.manual_seed(69)\n",
        "  CNN = CNN_Model.ConvNet()\n",
        "  conv_LSTM = LRCN(CNN)\n",
        "  trained_net,avg_loss, avg_acc, test_loss, test_acc = train_model(data_train, data_test, conv_LSTM, loss, nepoch=nepoch, momentum = momentum ,batch_size = 10,lr = lr, use_cuda = True, print_output = False, optimiser = 'SGD')\n",
        "  X_test, y_test = data_test.get_data()\n",
        "  trained_net = trained_net.to(torch.device('cpu'))\n",
        "  pred = trained_net(X_test)\n",
        "  accur = CNN_Model.accuracy(pred,y_test)\n",
        "  acc.append(accur)\n",
        "  \n",
        "plt.plot(momentums,acc)"
      ],
      "execution_count": null,
      "outputs": [
        {
          "output_type": "stream",
          "text": [
            "final loss: 0.7707245945930481\n",
            "final loss: 0.7741596698760986\n",
            "final loss: 0.7580082416534424\n",
            "final loss: 0.8585305213928223\n",
            "final loss: 1.0053373575210571\n",
            "final loss: 0.8399456143379211\n",
            "final loss: 0.9833918213844299\n",
            "final loss: 0.9600781798362732\n"
          ],
          "name": "stdout"
        },
        {
          "output_type": "stream",
          "text": [
            "No handles with labels found to put in legend.\n"
          ],
          "name": "stderr"
        },
        {
          "output_type": "stream",
          "text": [
            "final loss: 1.490085244178772\n"
          ],
          "name": "stdout"
        },
        {
          "output_type": "execute_result",
          "data": {
            "text/plain": [
              "<matplotlib.legend.Legend at 0x7f011c4abbd0>"
            ]
          },
          "metadata": {
            "tags": []
          },
          "execution_count": 33
        },
        {
          "output_type": "display_data",
          "data": {
            "image/png": "[encoded data removed]",
            "text/plain": [
              "<Figure size 432x288 with 1 Axes>"
            ]
          },
          "metadata": {
            "tags": [],
            "needs_background": "light"
          }
        }
      ]
    },
    {
      "cell_type": "markdown",
      "metadata": {
        "id": "-98ErEZlO37g"
      },
      "source": [
        "# Final train/test graph"
      ]
    },
    {
      "cell_type": "code",
      "metadata": {
        "id": "oQ4J2-lORKxI",
        "colab": {
          "base_uri": "https://localhost:8080/"
        },
        "outputId": "7ab33060-b089-44c5-c0eb-d59ef989c78d"
      },
      "source": [
        "# hyperparameters:\n",
        "nepoch = 50\n",
        "lr = 0.01\n",
        "momentum = 0.2\n",
        "optimiser = 'SGD'\n",
        "loss = nn.CrossEntropyLoss()\n",
        "\n",
        "torch.manual_seed(69)\n",
        "CNN = CNN_Model.ConvNet()\n",
        "conv_LSTM = LRCN(CNN)\n",
        "trained_net,avg_loss, avg_acc, test_loss, test_acc = train_model(data_train, data_test, conv_LSTM, loss, nepoch=nepoch, momentum = momentum ,batch_size = 10,lr = lr, use_cuda = True, print_output = False, optimiser = optimiser)"
      ],
      "execution_count": 57,
      "outputs": [
        {
          "output_type": "stream",
          "text": [
            "final loss: 0.7901762127876282\n"
          ],
          "name": "stdout"
        }
      ]
    },
    {
      "cell_type": "code",
      "metadata": {
        "id": "HxOhUxlQTJo5"
      },
      "source": [
        "X_test,y_test = data_test.get_data()\n",
        "trained_net = trained_net.to(torch.device('cpu'))\n",
        "pred = trained_net(X_test)\n",
        "y_pred = CNN_Model.classification(pred)"
      ],
      "execution_count": 61,
      "outputs": []
    },
    {
      "cell_type": "code",
      "metadata": {
        "id": "_ufmGOhGIVDB",
        "outputId": "04e0285e-64ef-4a43-ff41-bd8d0834f11e",
        "colab": {
          "base_uri": "https://localhost:8080/",
          "height": 300
        }
      },
      "source": [
        "import sklearn\n",
        "labels = ['Calm', 'Happy', 'Sad', 'Angry', 'Suprised']\n",
        "confusion = sklearn.metrics.confusion_matrix(y_test.detach().numpy(), y_pred)\n",
        "thing = sklearn.metrics.ConfusionMatrixDisplay(confusion, display_labels=labels)\n",
        "thing.plot()"
      ],
      "execution_count": 65,
      "outputs": [
        {
          "output_type": "execute_result",
          "data": {
            "text/plain": [
              "<sklearn.metrics._plot.confusion_matrix.ConfusionMatrixDisplay at 0x7fe90b663890>"
            ]
          },
          "metadata": {
            "tags": []
          },
          "execution_count": 65
        },
        {
          "output_type": "display_data",
          "data": {
            "image/png": "[encoded data removed]",
            "text/plain": [
              "<Figure size 432x288 with 2 Axes>"
            ]
          },
          "metadata": {
            "tags": [],
            "needs_background": "light"
          }
        }
      ]
    },
    {
      "cell_type": "code",
      "metadata": {
        "id": "gaxhDGIhIKD7"
      },
      "source": [
        "final_array = np.array([avg_loss,test_loss,avg_acc,test_acc])\n",
        "np.save('/content/drive/MyDrive/STAT3007_project/CNN_Models_Results/CNN_LSTM_Clean.npy',final_array)"
      ],
      "execution_count": null,
      "outputs": []
    },
    {
      "cell_type": "code",
      "metadata": {
        "id": "u01HuTsgRexX",
        "colab": {
          "base_uri": "https://localhost:8080/",
          "height": 590
        },
        "outputId": "35b4b92f-3738-4173-946c-c62d0d07cce3"
      },
      "source": [
        "epoches = [i for i in range(nepoch)]\n",
        "\n",
        "fig = plt.figure()\n",
        "plt.plot(epoches,test_loss, label = 'test')\n",
        "plt.plot(epoches,avg_loss, label = 'train', color = 'r')\n",
        "plt.title('Loss over epoches')\n",
        "plt.xlabel('Epoches')\n",
        "plt.ylabel('Loss')\n",
        "plt.legend()\n",
        "\n",
        "fig = plt.figure()\n",
        "plt.plot(epoches,test_acc, label = 'test')\n",
        "plt.plot(epoches,avg_acc, label = 'train', color = 'r')\n",
        "plt.title('Accuracy over epoches')\n",
        "plt.xlabel('Epoches')\n",
        "plt.ylabel('Accuracy')\n",
        "plt.legend()\n"
      ],
      "execution_count": null,
      "outputs": [
        {
          "output_type": "execute_result",
          "data": {
            "text/plain": [
              "<matplotlib.legend.Legend at 0x7fe97874e8d0>"
            ]
          },
          "metadata": {
            "tags": []
          },
          "execution_count": 17
        },
        {
          "output_type": "display_data",
          "data": {
            "image/png": "[encoded data removed]",
            "text/plain": [
              "<Figure size 432x288 with 1 Axes>"
            ]
          },
          "metadata": {
            "tags": [],
            "needs_background": "light"
          }
        },
        {
          "output_type": "display_data",
          "data": {
            "image/png": "[encoded data removed]",
            "text/plain": [
              "<Figure size 432x288 with 1 Axes>"
            ]
          },
          "metadata": {
            "tags": [],
            "needs_background": "light"
          }
        }
      ]
    },
    {
      "cell_type": "markdown",
      "metadata": {
        "id": "Q606pmDGIFWd"
      },
      "source": [
        "# NOISY"
      ]
    },
    {
      "cell_type": "code",
      "metadata": {
        "id": "CihBxaOVRpLC"
      },
      "source": [
        "#Import all the noisy data\n",
        "noisy_data_train = np.load('/content/drive/MyDrive/STAT3007_project/train_test_split_snr40/noisy_train_snr40.npy')\n",
        "noisy_data_test = np.load('/content/drive/MyDrive/STAT3007_project/train_test_split_snr40/noisy_test_snr40.npy')\n",
        "noisy_targets_train = np.load('/content/drive/MyDrive/STAT3007_project/train_test_split_snr40/target_train_snr40.npy')\n",
        "noisy_targets_test = np.load('/content/drive/MyDrive/STAT3007_project/train_test_split_snr40/target_test_snr40.npy')\n",
        "\n",
        "noisy_data_train = noisy_data_train.reshape(noisy_data_train.shape[0],1,noisy_data_train.shape[1],noisy_data_train.shape[2])\n",
        "noisy_data_test = noisy_data_test.reshape(noisy_data_test.shape[0],1,noisy_data_test.shape[1],noisy_data_test.shape[2])\n",
        "\n",
        "noisy_data_train = torch.tensor(noisy_data_train)\n",
        "noisy_data_test = torch.tensor(noisy_data_test)\n",
        "\n",
        "#noisy_data = torch.tensor(noisy_data).reshape(noisy_data.shape[0],1,noisy_data.shape[1],noisy_data.shape[2])\n",
        "noisy_targets_train = torch.tensor(noisy_targets_train)\n",
        "noisy_targets_test = torch.tensor(noisy_targets_test)"
      ],
      "execution_count": 66,
      "outputs": []
    },
    {
      "cell_type": "code",
      "metadata": {
        "id": "g93XLuMwKKR-",
        "colab": {
          "base_uri": "https://localhost:8080/"
        },
        "outputId": "246d659f-ce10-4f81-e491-f96aed86db65"
      },
      "source": [
        "noisy_data_train.shape"
      ],
      "execution_count": 67,
      "outputs": [
        {
          "output_type": "execute_result",
          "data": {
            "text/plain": [
              "torch.Size([6880, 1, 128, 63])"
            ]
          },
          "metadata": {
            "tags": []
          },
          "execution_count": 67
        }
      ]
    },
    {
      "cell_type": "code",
      "metadata": {
        "id": "mwSaCX20KZ13"
      },
      "source": [
        "noisy_train = data_loading.DatasetWrapper(noisy_data_train,noisy_targets_train)\n",
        "noisy_test = data_loading.DatasetWrapper(noisy_data_test,noisy_targets_test)"
      ],
      "execution_count": 68,
      "outputs": []
    },
    {
      "cell_type": "code",
      "metadata": {
        "id": "37pQQr6uKuKX",
        "colab": {
          "base_uri": "https://localhost:8080/"
        },
        "outputId": "d3d6d685-3398-44e4-9402-e9af7d2a0f38"
      },
      "source": [
        "# hyperparameters:\n",
        "nepoch = 50\n",
        "lr = 0.01\n",
        "momentum = 0.2\n",
        "optimiser = 'SGD'\n",
        "loss = nn.CrossEntropyLoss()\n",
        "\n",
        "torch.manual_seed(69)\n",
        "CNN = CNN_Model.ConvNet()\n",
        "conv_LSTM = LRCN(CNN)\n",
        "trained_net,avg_loss, avg_acc, test_loss, test_acc = train_model(noisy_train, noisy_test, conv_LSTM, loss, nepoch=nepoch, momentum = momentum ,batch_size = 10,lr = lr, use_cuda = True, print_output = False, optimiser = optimiser)"
      ],
      "execution_count": 69,
      "outputs": [
        {
          "output_type": "stream",
          "text": [
            "final loss: 2.4329192638397217\n"
          ],
          "name": "stdout"
        }
      ]
    },
    {
      "cell_type": "code",
      "metadata": {
        "id": "3yuSkMD8UpRA"
      },
      "source": [
        "X_test,y_test = noisy_test.get_data()\n",
        "trained_net = trained_net.to(torch.device('cpu'))\n",
        "pred = trained_net(X_test)\n",
        "y_pred = CNN_Model.classification(pred)"
      ],
      "execution_count": 70,
      "outputs": []
    },
    {
      "cell_type": "code",
      "metadata": {
        "id": "uMWpkbsUUxKU",
        "outputId": "e1765789-eff9-4757-80aa-8f31650ccc2c",
        "colab": {
          "base_uri": "https://localhost:8080/",
          "height": 296
        }
      },
      "source": [
        "import sklearn\n",
        "labels = ['Calm', 'Happy', 'Sad', 'Angry', 'Suprised']\n",
        "confusion = sklearn.metrics.confusion_matrix(y_test.detach().numpy(), y_pred)\n",
        "thing = sklearn.metrics.ConfusionMatrixDisplay(confusion, display_labels=labels)\n",
        "thing.plot(values_format = '.5g')"
      ],
      "execution_count": 73,
      "outputs": [
        {
          "output_type": "execute_result",
          "data": {
            "text/plain": [
              "<sklearn.metrics._plot.confusion_matrix.ConfusionMatrixDisplay at 0x7fe90a7ffcd0>"
            ]
          },
          "metadata": {
            "tags": []
          },
          "execution_count": 73
        },
        {
          "output_type": "display_data",
          "data": {
            "image/png": "[encoded data removed]",
            "text/plain": [
              "<Figure size 432x288 with 2 Axes>"
            ]
          },
          "metadata": {
            "tags": [],
            "needs_background": "light"
          }
        }
      ]
    },
    {
      "cell_type": "code",
      "metadata": {
        "id": "Ku5uIia_MPFk"
      },
      "source": [
        "final_array = np.array([avg_loss,test_loss,avg_acc,test_acc])\n",
        "np.save('/content/drive/MyDrive/STAT3007_project/CNN_Models_Results/CNN_LSTM_Noisy.npy',final_array)"
      ],
      "execution_count": null,
      "outputs": []
    },
    {
      "cell_type": "code",
      "metadata": {
        "id": "NTVkWcydK5Xp",
        "colab": {
          "base_uri": "https://localhost:8080/",
          "height": 590
        },
        "outputId": "6bb022ec-74a8-45a4-a111-55c4035bcac8"
      },
      "source": [
        "epoches = [i for i in range(nepoch)]\n",
        "\n",
        "fig = plt.figure()\n",
        "plt.plot(epoches,test_loss, label = 'test')\n",
        "plt.plot(epoches,avg_loss, label = 'train', color = 'r')\n",
        "plt.title('Loss over epoches')\n",
        "plt.xlabel('Epoches')\n",
        "plt.ylabel('Loss')\n",
        "plt.legend()\n",
        "\n",
        "fig = plt.figure()\n",
        "plt.plot(epoches,test_acc, label = 'test')\n",
        "plt.plot(epoches,avg_acc, label = 'train', color = 'r')\n",
        "plt.title('Accuracy over epoches')\n",
        "plt.xlabel('Epoches')\n",
        "plt.ylabel('Accuracy')\n",
        "plt.legend()"
      ],
      "execution_count": null,
      "outputs": [
        {
          "output_type": "execute_result",
          "data": {
            "text/plain": [
              "<matplotlib.legend.Legend at 0x7fe90b80db50>"
            ]
          },
          "metadata": {
            "tags": []
          },
          "execution_count": 29
        },
        {
          "output_type": "display_data",
          "data": {
            "image/png": "[encoded data removed]",
            "text/plain": [
              "<Figure size 432x288 with 1 Axes>"
            ]
          },
          "metadata": {
            "tags": [],
            "needs_background": "light"
          }
        },
        {
          "output_type": "display_data",
          "data": {
            "image/png": "[encoded data removed]",
            "text/plain": [
              "<Figure size 432x288 with 1 Axes>"
            ]
          },
          "metadata": {
            "tags": [],
            "needs_background": "light"
          }
        }
      ]
    },
    {
      "cell_type": "code",
      "metadata": {
        "id": "KogSTew9MIfl"
      },
      "source": [
        ""
      ],
      "execution_count": null,
      "outputs": []
    }
  ]
}