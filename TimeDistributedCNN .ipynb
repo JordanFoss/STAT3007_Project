{
 "cells": [
  {
   "cell_type": "markdown",
   "metadata": {
    "colab_type": "text",
    "id": "view-in-github"
   },
   "source": [
    "<a href=\"https://colab.research.google.com/github/JordanFoss/STAT3007_Project/blob/main/TimeDistributedCNN%20.ipynb\" target=\"_parent\"><img src=\"https://colab.research.google.com/assets/colab-badge.svg\" alt=\"Open In Colab\"/></a>"
   ]
  },
  {
   "cell_type": "code",
   "execution_count": 2,
   "metadata": {
    "colab": {
     "base_uri": "https://localhost:8080/"
    },
    "id": "RuzOBtBcklmX",
    "outputId": "d05ec395-8a29-4b6d-842b-97ba7f14dd23"
   },
   "outputs": [
    {
     "name": "stdout",
     "output_type": "stream",
     "text": [
      "fatal: destination path 'STAT3007_Project' already exists and is not an empty directory.\n",
      "/content/STAT3007_Project\n"
     ]
    }
   ],
   "source": [
    "!git clone https://github.com/JordanFoss/STAT3007_Project.git\n",
    "%cd STAT3007_Project/"
   ]
  },
  {
   "cell_type": "code",
   "execution_count": 1,
   "metadata": {
    "id": "-gg0TZh7VrcV"
   },
   "outputs": [],
   "source": [
    "import torch\n",
    "import torch.nn as nn\n",
    "import matplotlib.pyplot as plt\n",
    "from torchvision.transforms import ToTensor\n",
    "import scipy\n",
    "import numpy as np\n",
    "import librosa\n",
    "import torch.optim as optim\n",
    "from torch.utils.data import Dataset, DataLoader, random_split\n",
    "from torch.autograd import Variable\n",
    "import pandas as pd\n",
    "import glob"
   ]
  },
  {
   "cell_type": "code",
   "execution_count": 2,
   "metadata": {
    "id": "jKdy8mPhVnWC"
   },
   "outputs": [],
   "source": [
    "# fourier transform\n",
    "def spectral_decomposition(sample,sampling_rate, eps = 1e-14, title = ' title placeholder', visualise = False):\n",
    "    frequencies, times, spectrogram = scipy.signal.spectrogram(sample,fs = sampling_rate)\n",
    "\n",
    "    \n",
    "    \n",
    "    \n",
    "    if visualise:\n",
    "      specgram = plt.pcolormesh(times, frequencies, np.log(spectrogram + eps),shading = 'auto')\n",
    "      plt.clim(-40, -5)\n",
    "      \n",
    "      plt.colorbar(specgram)\n",
    "      #plt.imshow(np.log(spectrogram))\n",
    "      plt.ylabel('Frequency [Hz]')\n",
    "      plt.xlabel('Time [sec]')\n",
    "      plt.title(title)\n",
    "      plt.show()\n",
    "    \n",
    "    return frequencies, times, np.log(spectrogram+ eps)"
   ]
  },
  {
   "cell_type": "code",
   "execution_count": 3,
   "metadata": {
    "id": "ouYiOVgnSN0D"
   },
   "outputs": [],
   "source": [
    "# produce emotion label\n",
    "\n",
    "# 0 - calm; 1 - happy; 2 - sad; 3 - angry; 4 - surprised\n",
    "target_map = {'02':0,'03':1,'04':2,'05':3,'08':4}\n",
    "\n",
    "def target_generation(file_name):\n",
    "  labels = file_name.split('.')[0].split('-')\n",
    "  emotion = labels[0]\n",
    "\n",
    "  if emotion not in target_map:\n",
    "    return None\n",
    "\n",
    "  return target_map[emotion]"
   ]
  },
  {
   "cell_type": "markdown",
   "metadata": {
    "id": "BZKznIFGkQJU"
   },
   "source": [
    "# Pre-Process\n",
    "\n",
    "##Current Problem\n",
    "The time steps for speech data is not the same.\n",
    "\n",
    "proposed solution:\n",
    "1. test data - no changes\n",
    "2. training data - pad all the samples to max length. Since we want our network to be independent of audio length, we can do data augmentation to break them apart. (source https://arxiv.org/pdf/1607.02857.pdf)\n",
    "\n",
    "3. must read: effect of padding on CNN and LSTM (https://arxiv.org/pdf/1903.07288.pdf)\n",
    " * Acoording to the paper, prepadding is good for LSTM and CNN. So we choose __pre-padding__ the samples"
   ]
  },
  {
   "cell_type": "markdown",
   "metadata": {
    "id": "qcxhtLWqd2Fr"
   },
   "source": [
    "## Padding"
   ]
  },
  {
   "cell_type": "code",
   "execution_count": 4,
   "metadata": {
    "id": "bo9d17KncDWv"
   },
   "outputs": [],
   "source": [
    "# find maximum and minimum duration\n",
    "def find_min_max():\n",
    "\n",
    "  min_time = 41241\n",
    "  max_time = 0\n",
    "  min_sample = 0\n",
    "  max_sample = 0\n",
    "  for folder_name in glob.glob('./Audio_Speech_Actors_01-24/*'):\n",
    "    for actor_folder in glob.glob(folder_name + '/*'):\n",
    "      for sample_path in glob.glob(actor_folder + '/*'):\n",
    "        sample_name = sample_path.split('/')[-1]\n",
    "        file_format = sample_name.split('.')[-1]\n",
    "        if file_format != 'wav' or sample_name[:2] not in target_map or sample_name[3:5] == '01':\n",
    "          continue\n",
    "        \n",
    "        sample, sampling_rate = librosa.load(sample_path, sr = None)\n",
    "        sampling_time = sample.shape[0]/sampling_rate\n",
    "\n",
    "        if sampling_time < min_time:\n",
    "          min_time = sampling_time\n",
    "          min_sample = sample.shape[0]\n",
    "\n",
    "        if sampling_time > max_time:\n",
    "          max_time = sampling_time\n",
    "          max_sample = sample.shape[0]\n",
    "\n",
    "  return min_time, max_time, min_sample, max_sample"
   ]
  },
  {
   "cell_type": "code",
   "execution_count": 5,
   "metadata": {
    "id": "CWlXeMqicIcx"
   },
   "outputs": [],
   "source": [
    "min_time, max_time, min_sample, max_sample = find_min_max()"
   ]
  },
  {
   "cell_type": "code",
   "execution_count": 6,
   "metadata": {
    "colab": {
     "base_uri": "https://localhost:8080/"
    },
    "id": "do3OdH7GIvFp",
    "outputId": "d1f30485-5a74-4e21-b6d4-54f6521dd5ea"
   },
   "outputs": [
    {
     "data": {
      "text/plain": [
       "245045"
      ]
     },
     "execution_count": 6,
     "metadata": {},
     "output_type": "execute_result"
    }
   ],
   "source": [
    "max_sample"
   ]
  },
  {
   "cell_type": "markdown",
   "metadata": {
    "id": "vhoz9mJEc86t"
   },
   "source": [
    "\n",
    "Now that we have the maximum duration of the dataset, we can start pre-padding"
   ]
  },
  {
   "cell_type": "code",
   "execution_count": 7,
   "metadata": {
    "id": "Tm9B0JVQhNrJ"
   },
   "outputs": [],
   "source": [
    "def pre_pad(samples, max_sample):\n",
    "  sample_duration = samples.shape[0]\n",
    "\n",
    "  num_to_pad = max_sample - sample_duration\n",
    "  padded_sample = np.pad(samples,(num_to_pad,0),'constant', constant_values = 0)\n",
    "\n",
    "  return padded_sample"
   ]
  },
  {
   "cell_type": "markdown",
   "metadata": {
    "id": "u5500VP3Poit"
   },
   "source": [
    "let's inspect how the pre-pad works by choosing a random file and inspect the padded spectrogram"
   ]
  },
  {
   "cell_type": "code",
   "execution_count": 9,
   "metadata": {
    "id": "ae8sVatQPpt5"
   },
   "outputs": [],
   "source": [
    "test_sample, test_rate = librosa.load('/Volumes/YuziSSD1/STAT3007/project/STAT3007_Project/Audio_Speech_Actors_01-24/Female/Actor_08/02-02-01-02-08.wav', sr= None)"
   ]
  },
  {
   "cell_type": "code",
   "execution_count": 10,
   "metadata": {
    "colab": {
     "base_uri": "https://localhost:8080/"
    },
    "id": "kbfY-TBgIriU",
    "outputId": "ab9e1ac2-9697-4828-fdbb-b72e3c1f2090"
   },
   "outputs": [
    {
     "data": {
      "text/plain": [
       "245045"
      ]
     },
     "execution_count": 10,
     "metadata": {},
     "output_type": "execute_result"
    }
   ],
   "source": [
    "max_sample"
   ]
  },
  {
   "cell_type": "code",
   "execution_count": 11,
   "metadata": {
    "id": "0OKPLtrYPzao"
   },
   "outputs": [],
   "source": [
    "test_sample_pad = pre_pad(test_sample, max_sample)"
   ]
  },
  {
   "cell_type": "code",
   "execution_count": 12,
   "metadata": {
    "colab": {
     "base_uri": "https://localhost:8080/",
     "height": 573
    },
    "id": "TnAYTzcdQHXn",
    "outputId": "e53083b2-0524-46f2-a621-9962d0cc308f"
   },
   "outputs": [
    {
     "data": {
      "image/png": "[encoded data removed]",
      "text/plain": [
       "<Figure size 432x288 with 2 Axes>"
      ]
     },
     "metadata": {
      "needs_background": "light"
     },
     "output_type": "display_data"
    },
    {
     "data": {
      "image/png": "[encoded data removed]",
      "text/plain": [
       "<Figure size 432x288 with 2 Axes>"
      ]
     },
     "metadata": {
      "needs_background": "light"
     },
     "output_type": "display_data"
    }
   ],
   "source": [
    "test_freq, test_times, test_spec = spectral_decomposition(test_sample,test_rate, visualise = True, title = 'original')\n",
    "plt.figure()\n",
    "test_freq, test_times, test_spec = spectral_decomposition(test_sample_pad,test_rate, visualise = True, title = 'pre-pad')"
   ]
  },
  {
   "cell_type": "markdown",
   "metadata": {
    "id": "1fAilSbyR7ep"
   },
   "source": [
    "Apply padding on all the data"
   ]
  },
  {
   "cell_type": "code",
   "execution_count": 13,
   "metadata": {
    "id": "820LgQ0FdLTR"
   },
   "outputs": [],
   "source": [
    "def load_samples(max_sample):\n",
    "  # load samples\n",
    "  X = []\n",
    "  y = []\n",
    "\n",
    "  for folder_name in glob.glob('./Audio_Speech_Actors_01-24/*'):\n",
    "    for actor_folder in glob.glob(folder_name + '/*'):\n",
    "      for sample_path in glob.glob(actor_folder + '/*'):\n",
    "        \n",
    "        sample_name = sample_path.split('/')[-1]\n",
    "        file_format = sample_name.split('.')[-1]\n",
    "\n",
    "        if file_format != 'wav' or sample_name[:2] not in target_map or sample_name[3:5] == '01':\n",
    "          continue\n",
    "\n",
    "        sample, sampling_rate = librosa.load(sample_path, sr = None)\n",
    "        \n",
    "        padded_sample = pre_pad(sample, max_sample)\n",
    "\n",
    "\n",
    "\n",
    "        frequencies, times, spectrogram = spectral_decomposition(padded_sample, sampling_rate)\n",
    "        \n",
    "        target = target_generation(sample_name)\n",
    "\n",
    "        if target != None:\n",
    "          X.append(spectrogram)\n",
    "          y.append(target)\n",
    "  \n",
    "  return X, y\n"
   ]
  },
  {
   "cell_type": "code",
   "execution_count": 14,
   "metadata": {
    "id": "sOU8MJRMlo9w"
   },
   "outputs": [],
   "source": [
    "X,y = load_samples(max_sample)"
   ]
  },
  {
   "cell_type": "code",
   "execution_count": 18,
   "metadata": {},
   "outputs": [
    {
     "data": {
      "text/plain": [
       "(129, 1093)"
      ]
     },
     "execution_count": 18,
     "metadata": {},
     "output_type": "execute_result"
    }
   ],
   "source": [
    "X[0].shape"
   ]
  },
  {
   "cell_type": "markdown",
   "metadata": {
    "id": "0_xLYQOLlzWY"
   },
   "source": [
    "## Clean-up data\n",
    "1. Truncate X to be the proper size. detail below\n",
    "2. vectorised y"
   ]
  },
  {
   "cell_type": "code",
   "execution_count": 16,
   "metadata": {
    "id": "76nSrP6sj8xR"
   },
   "outputs": [],
   "source": [
    "def vectorise(y):\n",
    "  '''\n",
    "  Vectorise the digit label target to a binary vector\n",
    "  Parameter:\n",
    "  ----------\n",
    "      y: torch.tensor\n",
    "          The target vector of MNIST dataset\n",
    "\n",
    "  Returns:\n",
    "  --------\n",
    "    vectorised_y: torch.tensor\n",
    "        Vectorised version of y\n",
    "  '''\n",
    "  num_digits = 5\n",
    "\n",
    "  one_hot_tensor = []\n",
    "  for target in y:\n",
    "    one_hot = np.array([0 for i in range(num_digits)])\n",
    "    one_hot[target] = 1\n",
    "    one_hot_tensor.append(one_hot)\n",
    "  \n",
    "  vectorised_y = torch.tensor(one_hot_tensor)\n",
    "\n",
    "  return vectorised_y"
   ]
  },
  {
   "cell_type": "code",
   "execution_count": 17,
   "metadata": {
    "id": "dYw3rTb1mOmr"
   },
   "outputs": [],
   "source": [
    "# convert torch type\n",
    "X = torch.tensor(X)\n",
    "\n",
    "# (batch_size, channels, freq, time)\n",
    "X = X.reshape(X.shape[0],1,X.shape[1],X.shape[2])\n",
    "\n",
    "y = torch.tensor(y)\n",
    "\n",
    "#one-hot y\n",
    "y = vectorise(y)"
   ]
  },
  {
   "cell_type": "markdown",
   "metadata": {
    "id": "_RZ6wZAQTA5o"
   },
   "source": [
    "Since our convNet takes $129\\times 129$ \"image\", we want to somewhat adjust our time length so that the convNet can iterate through the specotrgam over time completely (without overlap). \n",
    "\n",
    "This means that we want to make our input spectrogram to have timestep of a multiple of $129$"
   ]
  },
  {
   "cell_type": "code",
   "execution_count": 18,
   "metadata": {
    "id": "ZGIu_gfxUyv8"
   },
   "outputs": [],
   "source": [
    "# first, let's consider truncating it to the nearest integer diviser\n",
    "# this works because the original data has 0.5 second of radio slience before the actual audio.\n",
    "truncate_multiple = X.shape[3] // 129"
   ]
  },
  {
   "cell_type": "code",
   "execution_count": 19,
   "metadata": {
    "colab": {
     "base_uri": "https://localhost:8080/"
    },
    "id": "mswX1lL_Vp5o",
    "outputId": "56bcc3a4-e157-447e-a196-ceee42378801"
   },
   "outputs": [
    {
     "data": {
      "text/plain": [
       "0.00016666666666687036"
      ]
     },
     "execution_count": 19,
     "metadata": {
      "tags": []
     },
     "output_type": "execute_result"
    }
   ],
   "source": [
    "# in fact, the length of the sample is only shortened by 0.0002 second as shown below,\n",
    "# so shortening it eliminates only the radio slience\n",
    "max_time - ((max_sample-truncate_multiple) /48000)"
   ]
  },
  {
   "cell_type": "markdown",
   "metadata": {
    "id": "-7PqVDpvWfmL"
   },
   "source": [
    "### Dimension truncation\n",
    "Now we implement the idea of truncating the data as outlined above"
   ]
  },
  {
   "cell_type": "code",
   "execution_count": 20,
   "metadata": {
    "id": "hkuiQliBaIOX"
   },
   "outputs": [],
   "source": [
    "def truncate_sample(X, conv_input_size):\n",
    "  new_time_size = (X.shape[3]//conv_input_size) * conv_input_size\n",
    "\n",
    "  time_to_truncate = X.shape[3] - new_time_size\n",
    "\n",
    "  return X[:,:,:,time_to_truncate:]\n"
   ]
  },
  {
   "cell_type": "code",
   "execution_count": 21,
   "metadata": {
    "id": "-IUmSzSba1O4"
   },
   "outputs": [],
   "source": [
    "X = truncate_sample(X,129)"
   ]
  },
  {
   "cell_type": "markdown",
   "metadata": {
    "id": "M-jJwtsUp07X"
   },
   "source": [
    "# Architecture building\n",
    "\n",
    "1. build a CNN\n",
    "2. build a RNN embedded with CNN\n",
    "\n",
    "Here, we are going to have 8 time steps in the RNN. In each time step, we take a $129\\times 129$ truncated spectrogram as an input to the CNN, then the flattened output of CNN will be the input of RNN."
   ]
  },
  {
   "cell_type": "markdown",
   "metadata": {
    "id": "xDOBzVY4b_lM"
   },
   "source": [
    "## CNN"
   ]
  },
  {
   "cell_type": "code",
   "execution_count": 22,
   "metadata": {
    "id": "FzFJ-dmQmSuv"
   },
   "outputs": [],
   "source": [
    "# convolutional net\n",
    "\n",
    "# input: 129x129\n",
    "#output: 30x30 for 32 filters\n",
    "class ConvNet(nn.Module):\n",
    "    def __init__(self):\n",
    "        super(ConvNet, self).__init__()\n",
    "        self.flatten = nn.Flatten()\n",
    "        self.conv = nn.Sequential(\n",
    "            nn.Conv2d(1, 32, kernel_size = 3),\n",
    "            nn.ReLU(),\n",
    "            nn.MaxPool2d(kernel_size=2, stride = 2),\n",
    "            nn.Conv2d(32, 32, kernel_size = 3),\n",
    "            nn.ReLU(),\n",
    "            nn.MaxPool2d(kernel_size=2, stride = 2),\n",
    "        )\n",
    "\n",
    "    def forward(self, x, inspect_feature = False):\n",
    "\n",
    "      conv_x = self.conv(x)\n",
    "      conv_x_flat  = self.flatten(conv_x)\n",
    "      if inspect_feature:\n",
    "        return conv_x\n",
    "      return conv_x_flat"
   ]
  },
  {
   "cell_type": "code",
   "execution_count": 23,
   "metadata": {
    "id": "ODS8L4QQpz2w"
   },
   "outputs": [],
   "source": [
    "# example usage\n",
    "CNN = ConvNet()\n",
    "cnn_out = CNN(X[:30,:,:,:129], inspect_feature = True)"
   ]
  },
  {
   "cell_type": "code",
   "execution_count": 24,
   "metadata": {
    "colab": {
     "base_uri": "https://localhost:8080/"
    },
    "id": "0G8-Liw1bgJa",
    "outputId": "ee9ff981-28ec-4dae-ecce-6f7d0b998ca3"
   },
   "outputs": [
    {
     "data": {
      "text/plain": [
       "torch.Size([30, 32, 30, 30])"
      ]
     },
     "execution_count": 24,
     "metadata": {
      "tags": []
     },
     "output_type": "execute_result"
    }
   ],
   "source": [
    "cnn_out.shape"
   ]
  },
  {
   "cell_type": "markdown",
   "metadata": {
    "id": "uyGghwrCb9FU"
   },
   "source": [
    "This means that we have a total of $30\\times 30\\times 32$ neurons as output of CNN"
   ]
  },
  {
   "cell_type": "markdown",
   "metadata": {
    "id": "dSyOC8licMu1"
   },
   "source": [
    "## RNN"
   ]
  },
  {
   "cell_type": "code",
   "execution_count": 25,
   "metadata": {
    "id": "FViwqENPa6QE"
   },
   "outputs": [],
   "source": [
    "# RNN combined with CNN\n",
    "class LRCN(nn.Module):\n",
    "    def __init__(self, num_inputs, CNN):\n",
    "        super(LRCN, self).__init__()\n",
    "\n",
    "        self.cnn = CNN\n",
    "        self.lstm_layers = nn.LSTM(num_inputs,100,num_layers = 2)\n",
    "        self.linear = nn.Sequential(nn.Linear(100, 5),\n",
    "                                    nn.Sigmoid())\n",
    "\n",
    "    def forward(self, x, step_size, use_cuda = False):\n",
    "\n",
    "      if use_cuda:\n",
    "        h_t = torch.zeros(2,x.shape[0] ,100, dtype=torch.float).to(x.device)\n",
    "        c_t = torch.zeros(2,x.shape[0], 100, dtype=torch.float).to(x.device)\n",
    "\n",
    "      else:\n",
    "        h_t = torch.zeros(2,x.shape[0], 100, dtype=torch.float)\n",
    "        c_t = torch.zeros(2,x.shape[0], 100, dtype=torch.float)\n",
    "\n",
    "      current_time = 0\n",
    "      for look_ahead_time in range(step_size,x.shape[3]+1, step_size):\n",
    "\n",
    "        x_t = x[:,:,:,current_time:look_ahead_time]\n",
    "        current_time = look_ahead_time\n",
    "        conv_x_flat = self.cnn(x_t)\n",
    "\n",
    "        conv_x_flat = conv_x_flat.reshape(1,conv_x_flat.shape[0],conv_x_flat.shape[1])\n",
    "\n",
    "        output, (h_t, c_t) = self.lstm_layers(conv_x_flat, (h_t, c_t))\n",
    "\n",
    "      decision_vec = self.linear(output[0])\n",
    "      return decision_vec"
   ]
  },
  {
   "cell_type": "code",
   "execution_count": 26,
   "metadata": {
    "id": "1i-ztpEoeCk6"
   },
   "outputs": [],
   "source": [
    "# Example usage\n",
    "CNN = ConvNet()\n",
    "num_inputs = 32*30*30\n",
    "step_size = 129\n",
    "\n",
    "ConvLSTM = LRCN(num_inputs, CNN)\n",
    "\n",
    "batch = X[:30]\n",
    "\n",
    "output = ConvLSTM(batch,129)"
   ]
  },
  {
   "cell_type": "code",
   "execution_count": 27,
   "metadata": {
    "colab": {
     "base_uri": "https://localhost:8080/"
    },
    "id": "1nFeI1s6-o9F",
    "outputId": "dbdf832f-16c4-46af-c757-aa5cd6b6155a"
   },
   "outputs": [
    {
     "data": {
      "text/plain": [
       "torch.Size([30, 5])"
      ]
     },
     "execution_count": 27,
     "metadata": {
      "tags": []
     },
     "output_type": "execute_result"
    }
   ],
   "source": [
    "output.shape"
   ]
  },
  {
   "cell_type": "markdown",
   "metadata": {
    "id": "2EJVvmFUQDfk"
   },
   "source": [
    "## Combining CNN and RNN\n",
    "It seems like the model would not train if i predefined a CNN model then pass it as a parameter of to the RNN. So I am going to define a complete new CNN inside the RNN instead."
   ]
  },
  {
   "cell_type": "code",
   "execution_count": 28,
   "metadata": {
    "id": "0kVFh6IvQJLK"
   },
   "outputs": [],
   "source": [
    "class Conv_LSTM(nn.Module):\n",
    "    def __init__(self):\n",
    "        super(Conv_LSTM, self).__init__()\n",
    "\n",
    "        self.cnn = nn.Sequential(\n",
    "            nn.Conv2d(1, 32, kernel_size = 3),\n",
    "            nn.ReLU(),\n",
    "            nn.MaxPool2d(kernel_size=2, stride = 2),\n",
    "            nn.Conv2d(32, 32, kernel_size = 3),\n",
    "            nn.ReLU(),\n",
    "            nn.MaxPool2d(kernel_size=2, stride = 2),\n",
    "        )\n",
    "\n",
    "        self.flatten = nn.Flatten()\n",
    "\n",
    "\n",
    "        self.lstm_layers = nn.LSTM(32*30*30,100,num_layers = 2)\n",
    "        self.linear = nn.Sequential(nn.Linear(100, 5, bias = True), nn.ReLU()\n",
    "        )\n",
    "\n",
    "    def forward(self, x, step_size = 129, use_cuda = False):\n",
    "\n",
    "      if use_cuda:\n",
    "        h_t = torch.zeros(2,x.shape[0] ,100, dtype=torch.float).to(x.device)\n",
    "        c_t = torch.zeros(2,x.shape[0], 100, dtype=torch.float).to(x.device)\n",
    "\n",
    "      else:\n",
    "        h_t = torch.zeros(2,x.shape[0], 100, dtype=torch.float)\n",
    "        c_t = torch.zeros(2,x.shape[0], 100, dtype=torch.float)\n",
    "\n",
    "      current_time = 0\n",
    "      for look_ahead_time in range(step_size,x.shape[3]+1, step_size):\n",
    "\n",
    "        x_t = x[:,:,:,current_time:look_ahead_time]\n",
    "        current_time = look_ahead_time\n",
    "        conv_x = self.cnn(x_t)\n",
    "        conv_x_flat = self.flatten(conv_x)\n",
    "\n",
    "        conv_x_flat = conv_x_flat.reshape(1,conv_x_flat.shape[0],conv_x_flat.shape[1])\n",
    "\n",
    "        output, (h_t, c_t) = self.lstm_layers(conv_x_flat, (h_t, c_t))\n",
    "\n",
    "      decision_vec = self.linear(output[0])\n",
    "      return decision_vec"
   ]
  },
  {
   "cell_type": "code",
   "execution_count": 29,
   "metadata": {
    "id": "SngNIhm9SOj7"
   },
   "outputs": [],
   "source": [
    "# Example usage\n",
    "step_size = 129\n",
    "\n",
    "conv_lstm = Conv_LSTM()\n",
    "\n",
    "batch = X[:30]\n",
    "\n",
    "output = conv_lstm(batch)"
   ]
  },
  {
   "cell_type": "code",
   "execution_count": 30,
   "metadata": {
    "colab": {
     "base_uri": "https://localhost:8080/"
    },
    "id": "dl4Cnbu1SrL8",
    "outputId": "b2c2d674-fa66-4f64-84dc-d48f544b0d11"
   },
   "outputs": [
    {
     "data": {
      "text/plain": [
       "torch.Size([30, 5])"
      ]
     },
     "execution_count": 30,
     "metadata": {
      "tags": []
     },
     "output_type": "execute_result"
    }
   ],
   "source": [
    "output.shape"
   ]
  },
  {
   "cell_type": "markdown",
   "metadata": {
    "id": "FQHGHEfrWj4S"
   },
   "source": [
    "## Note\n",
    "1. choose CNN+RNN combination if we want to train CNN from stratch\n",
    "2. choose RNN and pass CNN as a parameter if we have a pretrained model (parametric CNN does not learn)"
   ]
  },
  {
   "cell_type": "markdown",
   "metadata": {
    "id": "gpz-ZePw8U19"
   },
   "source": [
    "# Training\n",
    "Now we attempt to train on some datasets and see how it performs.\n",
    "* Loss function: quadratic loss\n",
    "* learning rate = 0.01"
   ]
  },
  {
   "cell_type": "code",
   "execution_count": 31,
   "metadata": {
    "id": "FU1hvMVL80Cu"
   },
   "outputs": [],
   "source": [
    "class DatasetWrapper(Dataset):\n",
    "  def __init__(self, X, y):\n",
    "    self.X, self.y = X, y\n",
    "\n",
    "  def __len__(self):\n",
    "    return len(self.X)\n",
    "\n",
    "  def __getitem__(self, idx):\n",
    "    return self.X[idx], self.y[idx]\n",
    "  \n",
    "  def change_type(self, dtype):\n",
    "\n",
    "    return DatasetWrapper(self.X.type(dtype),self.y.type(dtype))\n",
    "  \n",
    "  def dataset(self):\n",
    "    return DatasetWrapper(self.X,self.y)\n",
    "  \n",
    "  def get_data(self):\n",
    "    return self.X, self.y"
   ]
  },
  {
   "cell_type": "code",
   "execution_count": 32,
   "metadata": {
    "id": "QS3uyImZ9wGa"
   },
   "outputs": [],
   "source": [
    "def train_model(data, net, loss, nepoch, step_size = 129 ,lr = 0.01, batch_size = -1, use_cuda = False):\n",
    "  \n",
    "\n",
    "\n",
    "  # appropriate data type for CPU or GPU\n",
    "  device = None\n",
    "  if use_cuda and torch.cuda.is_available():\n",
    "    dtype = torch.cuda.FloatTensor\n",
    "    device = torch.device(\"cuda\")\n",
    "    net = net.to(device)\n",
    "  else:\n",
    "    dtype = torch.FloatTensor\n",
    "\n",
    "  optimizer = optim.SGD(net.parameters(), lr = lr)\n",
    "  data = data.dataset.change_type(dtype)\n",
    "\n",
    "  if batch_size == -1:\n",
    "    data_loader = DataLoader(data,\n",
    "                         batch_size = num_samples, shuffle = True)\n",
    "  \n",
    "  else:\n",
    "    data_loader = DataLoader(data,\n",
    "                             batch_size = batch_size, shuffle = True)\n",
    "    \n",
    "  for epoch in range(nepoch):\n",
    "     for X_batch, y_batch in data_loader:\n",
    "\n",
    "      if use_cuda and device != None:\n",
    "        X_batch = X_batch.to(device)\n",
    "        y_batch = y_batch.to(device)\n",
    "\n",
    "      optimizer.zero_grad()\n",
    "\n",
    "      # since all our values are negative, we convert them to positive\n",
    "      pred = net(-X_batch, step_size, use_cuda = use_cuda)\n",
    "      Rn = loss(pred, y_batch)\n",
    "      Rn.backward()\n",
    "      optimizer.step()\n",
    "     print('epoch:', epoch)\n",
    "     print('loss:',Rn.item())\n",
    "     print('------------')\n",
    "  \n",
    "  return net"
   ]
  },
  {
   "cell_type": "code",
   "execution_count": 43,
   "metadata": {
    "colab": {
     "base_uri": "https://localhost:8080/"
    },
    "id": "Sk2-TRlhBjyn",
    "outputId": "211472fa-01db-4c3b-99dd-682d5cd58a56"
   },
   "outputs": [
    {
     "name": "stdout",
     "output_type": "stream",
     "text": [
      "epoch: 0\n",
      "loss: 0.8052592277526855\n",
      "------------\n",
      "epoch: 1\n",
      "loss: 0.8004486560821533\n",
      "------------\n",
      "epoch: 2\n",
      "loss: 0.802327573299408\n",
      "------------\n",
      "epoch: 3\n",
      "loss: 0.7973255515098572\n",
      "------------\n",
      "epoch: 4\n",
      "loss: 0.8071523308753967\n",
      "------------\n",
      "epoch: 5\n",
      "loss: 0.7976873517036438\n",
      "------------\n",
      "epoch: 6\n",
      "loss: 0.8009988069534302\n",
      "------------\n",
      "epoch: 7\n",
      "loss: 0.8097889423370361\n",
      "------------\n",
      "epoch: 8\n",
      "loss: 0.7998161911964417\n",
      "------------\n",
      "epoch: 9\n",
      "loss: 0.7998040914535522\n",
      "------------\n",
      "epoch: 10\n",
      "loss: 0.7976323962211609\n",
      "------------\n",
      "epoch: 11\n",
      "loss: 0.7988206148147583\n",
      "------------\n",
      "epoch: 12\n",
      "loss: 0.7999605536460876\n",
      "------------\n",
      "epoch: 13\n",
      "loss: 0.811698853969574\n",
      "------------\n",
      "epoch: 14\n",
      "loss: 0.8001254200935364\n",
      "------------\n",
      "epoch: 15\n",
      "loss: 0.8005215525627136\n",
      "------------\n",
      "epoch: 16\n",
      "loss: 0.8053364157676697\n",
      "------------\n",
      "epoch: 17\n",
      "loss: 0.8071731925010681\n",
      "------------\n",
      "epoch: 18\n",
      "loss: 0.803888201713562\n",
      "------------\n",
      "epoch: 19\n",
      "loss: 0.8027576804161072\n",
      "------------\n",
      "epoch: 20\n",
      "loss: 0.8135075569152832\n",
      "------------\n",
      "epoch: 21\n",
      "loss: 0.8012962937355042\n",
      "------------\n",
      "epoch: 22\n",
      "loss: 0.8004912734031677\n",
      "------------\n",
      "epoch: 23\n",
      "loss: 0.8005790114402771\n",
      "------------\n",
      "epoch: 24\n",
      "loss: 0.798937201499939\n",
      "------------\n",
      "epoch: 25\n",
      "loss: 0.7999274134635925\n",
      "------------\n",
      "epoch: 26\n",
      "loss: 0.8041266798973083\n",
      "------------\n",
      "epoch: 27\n",
      "loss: 0.8088614344596863\n",
      "------------\n",
      "epoch: 28\n",
      "loss: 0.800907552242279\n",
      "------------\n",
      "epoch: 29\n",
      "loss: 0.8026226758956909\n",
      "------------\n",
      "epoch: 30\n",
      "loss: 0.8040542006492615\n",
      "------------\n",
      "epoch: 31\n",
      "loss: 0.8020942211151123\n",
      "------------\n",
      "epoch: 32\n",
      "loss: 0.803562343120575\n",
      "------------\n",
      "epoch: 33\n",
      "loss: 0.807227611541748\n",
      "------------\n",
      "epoch: 34\n",
      "loss: 0.7988461852073669\n",
      "------------\n",
      "epoch: 35\n",
      "loss: 0.8054174780845642\n",
      "------------\n",
      "epoch: 36\n",
      "loss: 0.8013873100280762\n",
      "------------\n",
      "epoch: 37\n",
      "loss: 0.8015076518058777\n",
      "------------\n",
      "epoch: 38\n",
      "loss: 0.7972347140312195\n",
      "------------\n",
      "epoch: 39\n",
      "loss: 0.7991915345191956\n",
      "------------\n",
      "epoch: 40\n",
      "loss: 0.8023511171340942\n",
      "------------\n",
      "epoch: 41\n",
      "loss: 0.7984858751296997\n",
      "------------\n",
      "epoch: 42\n",
      "loss: 0.8006495833396912\n",
      "------------\n",
      "epoch: 43\n",
      "loss: 0.8051351308822632\n",
      "------------\n",
      "epoch: 44\n",
      "loss: 0.800205409526825\n",
      "------------\n",
      "epoch: 45\n",
      "loss: 0.8061951994895935\n",
      "------------\n",
      "epoch: 46\n",
      "loss: 0.8019205927848816\n",
      "------------\n",
      "epoch: 47\n",
      "loss: 0.8010582327842712\n",
      "------------\n",
      "epoch: 48\n",
      "loss: 0.8005346059799194\n",
      "------------\n",
      "epoch: 49\n",
      "loss: 0.7988516092300415\n",
      "------------\n",
      "epoch: 50\n",
      "loss: 0.7908685803413391\n",
      "------------\n",
      "epoch: 51\n",
      "loss: 0.8125177621841431\n",
      "------------\n",
      "epoch: 52\n",
      "loss: 0.8068697452545166\n",
      "------------\n",
      "epoch: 53\n",
      "loss: 0.8073233962059021\n",
      "------------\n",
      "epoch: 54\n",
      "loss: 0.8018581867218018\n",
      "------------\n",
      "epoch: 55\n",
      "loss: 0.8016725778579712\n",
      "------------\n",
      "epoch: 56\n",
      "loss: 0.8126403093338013\n",
      "------------\n",
      "epoch: 57\n",
      "loss: 0.8004468679428101\n",
      "------------\n",
      "epoch: 58\n",
      "loss: 0.8002158999443054\n",
      "------------\n",
      "epoch: 59\n",
      "loss: 0.8072853088378906\n",
      "------------\n",
      "epoch: 60\n",
      "loss: 0.7981454133987427\n",
      "------------\n",
      "epoch: 61\n",
      "loss: 0.7994398474693298\n",
      "------------\n",
      "epoch: 62\n",
      "loss: 0.7980648279190063\n",
      "------------\n",
      "epoch: 63\n",
      "loss: 0.7999663352966309\n",
      "------------\n",
      "epoch: 64\n",
      "loss: 0.801277220249176\n",
      "------------\n",
      "epoch: 65\n",
      "loss: 0.8012310266494751\n",
      "------------\n",
      "epoch: 66\n",
      "loss: 0.7973203063011169\n",
      "------------\n",
      "epoch: 67\n",
      "loss: 0.7972186207771301\n",
      "------------\n",
      "epoch: 68\n",
      "loss: 0.8031467795372009\n",
      "------------\n",
      "epoch: 69\n",
      "loss: 0.8091063499450684\n",
      "------------\n",
      "epoch: 70\n",
      "loss: 0.8030658960342407\n",
      "------------\n",
      "epoch: 71\n",
      "loss: 0.8033106327056885\n",
      "------------\n",
      "epoch: 72\n",
      "loss: 0.8000324964523315\n",
      "------------\n",
      "epoch: 73\n",
      "loss: 0.7983889579772949\n",
      "------------\n",
      "epoch: 74\n",
      "loss: 0.7996153831481934\n",
      "------------\n",
      "epoch: 75\n",
      "loss: 0.8043237328529358\n",
      "------------\n",
      "epoch: 76\n",
      "loss: 0.7962252497673035\n",
      "------------\n",
      "epoch: 77\n",
      "loss: 0.7958269715309143\n",
      "------------\n",
      "epoch: 78\n",
      "loss: 0.8066462278366089\n",
      "------------\n",
      "epoch: 79\n",
      "loss: 0.7975940108299255\n",
      "------------\n",
      "epoch: 80\n",
      "loss: 0.7972594499588013\n",
      "------------\n",
      "epoch: 81\n",
      "loss: 0.8008443713188171\n",
      "------------\n",
      "epoch: 82\n",
      "loss: 0.7964503765106201\n",
      "------------\n",
      "epoch: 83\n",
      "loss: 0.8048142194747925\n",
      "------------\n",
      "epoch: 84\n",
      "loss: 0.7974096536636353\n",
      "------------\n",
      "epoch: 85\n",
      "loss: 0.8030054569244385\n",
      "------------\n",
      "epoch: 86\n",
      "loss: 0.7995229363441467\n",
      "------------\n",
      "epoch: 87\n",
      "loss: 0.7985528111457825\n",
      "------------\n",
      "epoch: 88\n",
      "loss: 0.7929218411445618\n",
      "------------\n",
      "epoch: 89\n",
      "loss: 0.7941975593566895\n",
      "------------\n",
      "epoch: 90\n",
      "loss: 0.7937816977500916\n",
      "------------\n",
      "epoch: 91\n",
      "loss: 0.793287456035614\n",
      "------------\n",
      "epoch: 92\n",
      "loss: 0.7939239740371704\n",
      "------------\n",
      "epoch: 93\n",
      "loss: 0.7904958724975586\n",
      "------------\n",
      "epoch: 94\n",
      "loss: 0.7901330590248108\n",
      "------------\n",
      "epoch: 95\n",
      "loss: 0.7979385852813721\n",
      "------------\n",
      "epoch: 96\n",
      "loss: 0.7903814315795898\n",
      "------------\n",
      "epoch: 97\n",
      "loss: 0.789008378982544\n",
      "------------\n",
      "epoch: 98\n",
      "loss: 0.7884358763694763\n",
      "------------\n",
      "epoch: 99\n",
      "loss: 0.7933793663978577\n",
      "------------\n"
     ]
    }
   ],
   "source": [
    "def quadratic_loss(f,Y):\n",
    "  SE = torch.square(torch.norm(f - Y,dim = 1, p =2))\n",
    "  MSE = torch.mean(SE)\n",
    "  return MSE\n",
    "\n",
    "\n",
    "spectro_data = DatasetWrapper(X,y)\n",
    "train_size = int(X.shape[0] * 0.9)\n",
    "test_size = X.shape[0] - train_size\n",
    "\n",
    "data_test, data_train = random_split(spectro_data,[test_size,train_size], generator = torch.Generator().manual_seed(10))\n",
    "\n",
    "conv_lstm = Conv_LSTM()\n",
    "\n",
    "nepoch = 100\n",
    "batch_size = 30\n",
    "trained_net = train_model(data_train,conv_lstm, quadratic_loss, nepoch = nepoch, step_size = 129,lr = 0.01, batch_size = batch_size, use_cuda = True)"
   ]
  },
  {
   "cell_type": "markdown",
   "metadata": {
    "id": "i8S8aCK7wj6k"
   },
   "source": [
    "## Training problem\n",
    "performance not increasine.\n",
    "\n",
    "possible solution:\n",
    "1. nomalisation\n",
    "2. transfer learning (https://www.frontiersin.org/articles/10.3389/fcomp.2020.00014/full)\n",
    "3. RGB decomposition (https://www.frontiersin.org/articles/10.3389/fcomp.2020.00014/full)"
   ]
  },
  {
   "cell_type": "code",
   "execution_count": 44,
   "metadata": {
    "id": "JiGGN4VqPL2W"
   },
   "outputs": [],
   "source": [
    "X_test, y_test = data_test.dataset.get_data()\n",
    "X_test = X_test.type(torch.FloatTensor).to(torch.device('cpu'))"
   ]
  },
  {
   "cell_type": "code",
   "execution_count": 45,
   "metadata": {
    "id": "-n93F9T5qUlC"
   },
   "outputs": [],
   "source": [
    "trained_net = trained_net.to(torch.device('cpu'))"
   ]
  },
  {
   "cell_type": "code",
   "execution_count": 55,
   "metadata": {
    "id": "ZrnxSQelqXr1"
   },
   "outputs": [],
   "source": [
    "y_pred = trained_net(-X_test[:10])"
   ]
  },
  {
   "cell_type": "code",
   "execution_count": 56,
   "metadata": {
    "colab": {
     "base_uri": "https://localhost:8080/"
    },
    "id": "nUz92_8Rq-NB",
    "outputId": "485db169-3c94-469c-a27e-f35c2b8f4fa7"
   },
   "outputs": [
    {
     "data": {
      "text/plain": [
       "tensor([[0.2032, 0.1826, 0.1994, 0.1760, 0.2040],\n",
       "        [0.1919, 0.2001, 0.1948, 0.1992, 0.2029],\n",
       "        [0.2042, 0.1814, 0.2000, 0.1750, 0.2039],\n",
       "        [0.1832, 0.2184, 0.1863, 0.2230, 0.2041],\n",
       "        [0.2026, 0.1821, 0.1990, 0.1750, 0.2038],\n",
       "        [0.2019, 0.1827, 0.1984, 0.1757, 0.2039],\n",
       "        [0.1985, 0.1973, 0.1948, 0.1948, 0.2032],\n",
       "        [0.1842, 0.2189, 0.1853, 0.2226, 0.2030],\n",
       "        [0.1825, 0.2226, 0.1861, 0.2258, 0.2030],\n",
       "        [0.1911, 0.2067, 0.1914, 0.2072, 0.2061]], grad_fn=<ReluBackward0>)"
      ]
     },
     "execution_count": 56,
     "metadata": {
      "tags": []
     },
     "output_type": "execute_result"
    }
   ],
   "source": [
    "y_pred"
   ]
  },
  {
   "cell_type": "code",
   "execution_count": 51,
   "metadata": {
    "colab": {
     "base_uri": "https://localhost:8080/"
    },
    "id": "CxLcLBdDsksy",
    "outputId": "a89f174c-1fc5-44b2-ba58-2b323a118cbb"
   },
   "outputs": [
    {
     "data": {
      "text/plain": [
       "tensor([[1, 0, 0, 0, 0],\n",
       "        [0, 0, 0, 1, 0],\n",
       "        [0, 0, 1, 0, 0],\n",
       "        [0, 1, 0, 0, 0],\n",
       "        [0, 0, 1, 0, 0],\n",
       "        [0, 0, 1, 0, 0],\n",
       "        [0, 0, 0, 0, 1],\n",
       "        [0, 0, 0, 1, 0],\n",
       "        [0, 0, 0, 1, 0],\n",
       "        [0, 1, 0, 0, 0]])"
      ]
     },
     "execution_count": 51,
     "metadata": {
      "tags": []
     },
     "output_type": "execute_result"
    }
   ],
   "source": [
    "y_test[:10]"
   ]
  },
  {
   "cell_type": "code",
   "execution_count": null,
   "metadata": {
    "id": "5jEcZ07psntb"
   },
   "outputs": [],
   "source": []
  }
 ],
 "metadata": {
  "accelerator": "GPU",
  "colab": {
   "include_colab_link": true,
   "name": "Untitled0.ipynb",
   "provenance": []
  },
  "kernelspec": {
   "display_name": "Python 3",
   "language": "python",
   "name": "python3"
  },
  "language_info": {
   "codemirror_mode": {
    "name": "ipython",
    "version": 3
   },
   "file_extension": ".py",
   "mimetype": "text/x-python",
   "name": "python",
   "nbconvert_exporter": "python",
   "pygments_lexer": "ipython3",
   "version": "3.6.2"
  }
 },
 "nbformat": 4,
 "nbformat_minor": 1
}
