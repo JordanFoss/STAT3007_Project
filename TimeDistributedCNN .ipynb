{
  "nbformat": 4,
  "nbformat_minor": 0,
  "metadata": {
    "colab": {
      "name": "Untitled0.ipynb",
      "provenance": [],
      "include_colab_link": true
    },
    "kernelspec": {
      "name": "python3",
      "display_name": "Python 3"
    },
    "language_info": {
      "name": "python"
    }
  },
  "cells": [
    {
      "cell_type": "markdown",
      "metadata": {
        "id": "view-in-github",
        "colab_type": "text"
      },
      "source": [
        "<a href=\"https://colab.research.google.com/github/JordanFoss/STAT3007_Project/blob/main/TimeDistributedCNN%20.ipynb\" target=\"_parent\"><img src=\"https://colab.research.google.com/assets/colab-badge.svg\" alt=\"Open In Colab\"/></a>"
      ]
    },
    {
      "cell_type": "code",
      "metadata": {
        "id": "RuzOBtBcklmX"
      },
      "source": [
        "!git clone https://github.com/JordanFoss/STAT3007_Project.git\n",
        "%cd STAT3007_Project/"
      ],
      "execution_count": null,
      "outputs": []
    },
    {
      "cell_type": "code",
      "metadata": {
        "id": "lGS6SaVZXBkF"
      },
      "source": [
        "\n",
        "import torch\n",
        "import torch.nn as nn\n",
        "import torch.optim as optim\n",
        "import numpy as np\n",
        "\n",
        "from torch.utils.data import Dataset, DataLoader\n",
        "from torch.autograd import Variable\n",
        "\n",
        "class TimeDistributed(nn.Module):\n",
        "    def __init__(self, segments):\n",
        "        super(TimeDistributed, self).__init__()\n",
        "\n",
        "        self.segments = segments\n",
        "        self.flatten = nn.Flatten()\n",
        "\n",
        "        self.conv = nn.Sequential(\n",
        "            nn.Conv2d(1, 32, kernel_size = 3),\n",
        "            nn.ReLU(),\n",
        "            nn.MaxPool2d(kernel_size=2, stride = 2),\n",
        "            nn.Conv2d(32, 32, kernel_size = 3),\n",
        "            nn.ReLU(),\n",
        "            nn.MaxPool2d(kernel_size=2, stride = 2),\n",
        "        )\n",
        "\n",
        "\n",
        "        self.lstm_layer = nn.LSTM(1024,100,2)\n",
        "        self.linear = nn.Sequential(nn.Linear(100, 5),\n",
        "                                    nn.Sigmoid())\n",
        "\n",
        "    def forward(self, x, use_cuda = False):\n",
        "\n",
        "      # initial cell/hidden state\n",
        "      # (num_layers, batch, hidden_size)\n",
        "      if use_cuda:\n",
        "        h_t = torch.zeros(2,1 ,100, dtype=torch.float).to(x.device)\n",
        "        c_t = torch.zeros(2,1, 100, dtype=torch.float).to(x.device)\n",
        "\n",
        "      else:\n",
        "        h_t = torch.zeros(2,1, 100, dtype=torch.float)\n",
        "        c_t = torch.zeros(2,1, 100, dtype=torch.float)\n",
        "\n",
        "      # generate output of each prediction based on input\n",
        "      start = 0\n",
        "      step_size = int((x.shape[1]/self.segments))\n",
        "      end = step_size\n",
        "\n",
        "      for segment in range(segments):\n",
        "        \n",
        "        input_t = x[:,start:end]\n",
        "\n",
        "        start = end\n",
        "        end = end + step_size\n",
        "        # send info of previous cell/hidden state to the next layer\n",
        "        # input the next character on the provided sequence\n",
        "        h_t, c_t = self.lstm(input_t, (h_t, c_t))\n",
        "        output = self.linear(h_t)\n",
        "      \n",
        "      return outputs"
      ],
      "execution_count": null,
      "outputs": []
    },
    {
      "cell_type": "code",
      "metadata": {
        "id": "hBamIh2ki-8l"
      },
      "source": [
        "import numpy as np\n",
        "import torch\n",
        "a = torch.tensor(np.array([[1,2],[2,5],[3,8],[4,4]]))"
      ],
      "execution_count": null,
      "outputs": []
    },
    {
      "cell_type": "code",
      "metadata": {
        "colab": {
          "base_uri": "https://localhost:8080/"
        },
        "id": "Go_f4DNbjFdw",
        "outputId": "c670daaf-de55-4a89-8923-9bd8d2c7e701"
      },
      "source": [
        "a[0:5]"
      ],
      "execution_count": null,
      "outputs": [
        {
          "output_type": "execute_result",
          "data": {
            "text/plain": [
              "tensor([[1, 2],\n",
              "        [2, 5],\n",
              "        [3, 8],\n",
              "        [4, 4]])"
            ]
          },
          "metadata": {
            "tags": []
          },
          "execution_count": 17
        }
      ]
    },
    {
      "cell_type": "code",
      "metadata": {
        "id": "i7cfnBRGjOW6"
      },
      "source": [
        ""
      ],
      "execution_count": null,
      "outputs": []
    }
  ]
}